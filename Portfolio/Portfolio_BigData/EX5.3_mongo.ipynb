{
 "cells": [
  {
   "cell_type": "code",
   "execution_count": 1,
   "metadata": {
    "collapsed": false
   },
   "outputs": [],
   "source": [
    "# Exercise 5.3:\n",
    "# Get all orders (with products) made by ALFKI that contain at least 2 product types.\n",
    "\n",
    "import pymongo\n",
    "from pymongo import MongoClient\n",
    "db = MongoClient()['Northwind']  # db=MongoClient().Northwind"
   ]
  },
  {
   "cell_type": "code",
   "execution_count": 13,
   "metadata": {
    "collapsed": false
   },
   "outputs": [
    {
     "name": "stdout",
     "output_type": "stream",
     "text": [
      "[10643, 10692, 10702, 10835, 10952, 11011]\n"
     ]
    }
   ],
   "source": [
    "order_id=[]\n",
    "for item in db.orders.find({\"CustomerID\":\"ALFKI\"}):\n",
    "    order_id.append(item[\"OrderID\"])\n",
    "print order_id"
   ]
  },
  {
   "cell_type": "code",
   "execution_count": 8,
   "metadata": {
    "collapsed": false
   },
   "outputs": [
    {
     "data": {
      "text/plain": [
       "[11011, 10692, 10952, 10643, 10702, 10835]"
      ]
     },
     "execution_count": 8,
     "metadata": {},
     "output_type": "execute_result"
    }
   ],
   "source": [
    "from collections import Counter\n",
    "uni_order_id=[k for k,v in Counter(order_id).items() if v>0] #find repeated numbers in a list\n",
    "uni_order_id"
   ]
  },
  {
   "cell_type": "code",
   "execution_count": 12,
   "metadata": {
    "collapsed": false
   },
   "outputs": [
    {
     "name": "stdout",
     "output_type": "stream",
     "text": [
      "OrderID:  10643    ProductID:  28\n",
      "OrderID:  10643    ProductID:  39\n",
      "OrderID:  10643    ProductID:  46\n",
      "OrderID:  10702    ProductID:  3\n",
      "OrderID:  10702    ProductID:  76\n",
      "OrderID:  10835    ProductID:  59\n",
      "OrderID:  10835    ProductID:  77\n",
      "OrderID:  10952    ProductID:  6\n",
      "OrderID:  10952    ProductID:  28\n",
      "OrderID:  11011    ProductID:  58\n",
      "OrderID:  11011    ProductID:  71\n"
     ]
    }
   ],
   "source": [
    "oid=[]\n",
    "pid=[]\n",
    "import numpy as np\n",
    "for i in db['order-details'].find({\"OrderID\":{\"$in\":order_id}}):\n",
    "     #if  i['OrderID']!=i['OrderID']:\n",
    "     oid.append(i['OrderID'])\n",
    "     pid.append(i['ProductID'])\n",
    "repe_oid=[k for k,v in Counter(oid).items() if v>1] # v>1: selects only orders that has more than one product types\n",
    "repe_oid\n",
    "\n",
    "for i in db['order-details'].find({\"OrderID\":{\"$in\":repe_oid}}):   \n",
    "    print \"OrderID: \",i['OrderID'],\"  \", \"ProductID: \",i['ProductID']"
   ]
  },
  {
   "cell_type": "code",
   "execution_count": 22,
   "metadata": {
    "collapsed": false
   },
   "outputs": [
    {
     "data": {
      "text/plain": [
       "{u'n': 0, u'ok': 1}"
      ]
     },
     "execution_count": 22,
     "metadata": {},
     "output_type": "execute_result"
    }
   ],
   "source": [
    "##remove a collection from the data##\n",
    "# db['order-details'].remove({})"
   ]
  },
  {
   "cell_type": "code",
   "execution_count": null,
   "metadata": {
    "collapsed": true
   },
   "outputs": [],
   "source": []
  }
 ],
 "metadata": {
  "kernelspec": {
   "display_name": "Python 2",
   "language": "python",
   "name": "python2"
  },
  "language_info": {
   "codemirror_mode": {
    "name": "ipython",
    "version": 2
   },
   "file_extension": ".py",
   "mimetype": "text/x-python",
   "name": "python",
   "nbconvert_exporter": "python",
   "pygments_lexer": "ipython2",
   "version": "2.7.10"
  }
 },
 "nbformat": 4,
 "nbformat_minor": 0
}
