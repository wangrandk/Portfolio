{
 "cells": [
  {
   "cell_type": "code",
   "execution_count": 35,
   "metadata": {
    "collapsed": false
   },
   "outputs": [],
   "source": [
    "# EX5.2\n",
    "# all orders made by ALFKI and the products they contain.\n",
    "import pymongo\n",
    "from pymongo import MongoClient\n",
    "db = MongoClient()['Northwind']  # db=MongoClient().Northwind"
   ]
  },
  {
   "cell_type": "code",
   "execution_count": 36,
   "metadata": {
    "collapsed": false
   },
   "outputs": [
    {
     "name": "stdout",
     "output_type": "stream",
     "text": [
      "[10643, 10692, 10702, 10835, 10952, 11011]\n"
     ]
    },
    {
     "data": {
      "text/plain": [
       "[(11011, 1), (10692, 1), (10952, 1), (10643, 1), (10702, 1), (10835, 1)]"
      ]
     },
     "execution_count": 36,
     "metadata": {},
     "output_type": "execute_result"
    }
   ],
   "source": [
    "orderId=[]\n",
    "for item in db.orders.find({\"CustomerID\":\"ALFKI\"}):\n",
    "    orderId.append(item[\"OrderID\"])\n",
    "print orderId\n",
    "from collections import Counter\n",
    "Counter(orderId).items()"
   ]
  },
  {
   "cell_type": "code",
   "execution_count": 37,
   "metadata": {
    "collapsed": false,
    "scrolled": true
   },
   "outputs": [
    {
     "name": "stdout",
     "output_type": "stream",
     "text": [
      "10643\n",
      "10692\n",
      "10702\n",
      "10835\n",
      "10952\n",
      "11011\n",
      "[10643, 10692, 10702, 10835, 10952, 11011]\n"
     ]
    }
   ],
   "source": [
    "order = db.orders.find({\"CustomerID\":\"ALFKI\"})\n",
    "order_ALFKI=[]\n",
    "for i in order:\n",
    "    order_ALFKI.append(i[\"OrderID\"])        \n",
    "    print i['OrderID']\n",
    "print order_ALFKI"
   ]
  },
  {
   "cell_type": "code",
   "execution_count": 38,
   "metadata": {
    "collapsed": false
   },
   "outputs": [
    {
     "name": "stdout",
     "output_type": "stream",
     "text": [
      "OrderID:  10643    ProductID:  28\n",
      "OrderID:  10643    ProductID:  39\n",
      "OrderID:  10643    ProductID:  46\n",
      "OrderID:  10692    ProductID:  63\n",
      "OrderID:  10702    ProductID:  3\n",
      "OrderID:  10702    ProductID:  76\n",
      "OrderID:  10835    ProductID:  59\n",
      "OrderID:  10835    ProductID:  77\n",
      "OrderID:  10952    ProductID:  6\n",
      "OrderID:  10952    ProductID:  28\n",
      "OrderID:  11011    ProductID:  58\n",
      "OrderID:  11011    ProductID:  71\n",
      "[28, 39, 46, 63, 3, 76, 59, 77, 6, 28, 58, 71]\n",
      "[28, 39, 46, 63, 3, 76, 59, 77, 6, 58, 71]\n"
     ]
    }
   ],
   "source": [
    "pid=[]\n",
    "for i in db['order-details'].find({\"OrderID\":{\"$in\":order_ALFKI}}):\n",
    "    pid.append(i['ProductID'])\n",
    "    print \"OrderID: \", i['OrderID'],\"  \", \"ProductID: \",i['ProductID']\n",
    "print pid\n",
    "pID=[]\n",
    "\n",
    "#unify the repeated productID '28'\n",
    "for i in pid:\n",
    "    if i not in pID:\n",
    "        pID.append(i)\n",
    "print pID\n",
    "        "
   ]
  },
  {
   "cell_type": "code",
   "execution_count": 39,
   "metadata": {
    "collapsed": false
   },
   "outputs": [
    {
     "name": "stdout",
     "output_type": "stream",
     "text": [
      "[u'R\\xf6ssle Sauerkraut', u'Spegesild', u'Escargots de Bourgogne', u'Chartreuse verte', u'Raclette Courdavault', u'Vegie-spread', u'Flotemysost', u'Lakkalik\\xf6\\xf6ri', u'Original Frankfurter gr\\xfcne So\\xdfe', u'Aniseed Syrup', u\"Grandma's Boysenberry Spread\"]\n"
     ]
    }
   ],
   "source": [
    "# associate ProductID to productName\n",
    "pname=[]\n",
    "for i in db['products'].find({\"ProductID\":{\"$in\":pID}}):\n",
    "    pname.append(i['ProductName'])\n",
    "print pname\n"
   ]
  },
  {
   "cell_type": "code",
   "execution_count": null,
   "metadata": {
    "collapsed": true
   },
   "outputs": [],
   "source": []
  }
 ],
 "metadata": {
  "kernelspec": {
   "display_name": "Python 2",
   "language": "python",
   "name": "python2"
  },
  "language_info": {
   "codemirror_mode": {
    "name": "ipython",
    "version": 2
   },
   "file_extension": ".py",
   "mimetype": "text/x-python",
   "name": "python",
   "nbconvert_exporter": "python",
   "pygments_lexer": "ipython2",
   "version": "2.7.10"
  }
 },
 "nbformat": 4,
 "nbformat_minor": 0
}
