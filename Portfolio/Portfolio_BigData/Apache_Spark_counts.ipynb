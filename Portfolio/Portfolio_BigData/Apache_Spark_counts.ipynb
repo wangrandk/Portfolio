{
 "cells": [
  {
   "cell_type": "markdown",
   "metadata": {},
   "source": [
    "Exercise 9.1\n",
    "In this exercise a Spark job was written to count the occurrences of each word\n",
    "in a text file. We have used the same simple example as was used in exercise 8.1.\n",
    "The text file is first opened using \"sc.textFile\" and saved in lines. We then map the text to words using \"flatMap\" because it can return a sequence for each\n",
    "input, here the words, rather than a single output. The words are then mapped\n",
    "to pairs of words and 1, i.e (word,1). The function \"reduceByKey\" is then used\n",
    "to sum up the ones by the words, that is counting the words. We then filter out\n",
    "empty words and collect."
   ]
  },
  {
   "cell_type": "code",
   "execution_count": 3,
   "metadata": {
    "collapsed": false
   },
   "outputs": [
    {
     "name": "stdout",
     "output_type": "stream",
     "text": [
      "are: 3\n",
      "at: 1\n",
      "be: 3\n",
      "but: 1\n",
      "coach: 1\n",
      "football: 1\n",
      "least: 1\n",
      "need: 1\n",
      "not: 3\n",
      "should: 1\n",
      "to: 2\n",
      "used: 1\n",
      "we: 6\n",
      "what: 3\n"
     ]
    }
   ],
   "source": [
    "import re\n",
    "WORD_RE = re.compile (r\"\\b[a-z]+\\b\")\n",
    "# lines = sc. textFile (\" data /cs100/lab1/ shakespeare .txt \")\n",
    "lines = sc.textFile (\"small.txt\")\n",
    "pairs = lines.flatMap ( lambda l: WORD_RE.findall (l.lower ()))\\\n",
    ".map ( lambda x:(x,1))\n",
    "counts = pairs.reduceByKey ( lambda a, b: a + b)\n",
    "output = counts.sortByKey (). collect ()\n",
    "for (word , count ) in output :\n",
    "    print (\"%s: %i\" % (word , count ))"
   ]
  },
  {
   "cell_type": "markdown",
   "metadata": {},
   "source": [
    "Exercise 9.2\n",
    "In this exercise a Spark job that determines if a graph has an Euler tour (all\n",
    "vertices have even degree). This is the same example as was used in exercise 8.2.\n",
    "We open the text file using \"sc.textFile\" and save it in lines. We the split the\n",
    "lines into words (the node numbers) using \"flatMap\", map to pairs and reduce\n",
    "by key to count as we did in 9.1. We the map the the count to either true or\n",
    "false depending on the count being even (true) or odd (false). This is done using modulo 2. We the reduce by taking the minimum of these values, as it will not be an Euler tour if at least one of the counts is odd."
   ]
  },
  {
   "cell_type": "code",
   "execution_count": 30,
   "metadata": {
    "collapsed": false
   },
   "outputs": [
    {
     "name": "stdout",
     "output_type": "stream",
     "text": [
      "[(u'1', 2), (u'0', 2), (u'3', 2), (u'2', 2)]\n"
     ]
    },
    {
     "data": {
      "text/plain": [
       "True"
      ]
     },
     "execution_count": 30,
     "metadata": {},
     "output_type": "execute_result"
    }
   ],
   "source": [
    "lines =sc.textFile (\"Graph01.txt\")\n",
    "words = lines.flatMap ( lambda s: s.strip ().split (' '))\n",
    "pairs = words.map( lambda s: (s,1))\n",
    "counts = pairs.reduceByKey ( lambda a,b: a+b) #add values up wrt. keys\n",
    "output = counts.collect()\n",
    "print output\n",
    "counts.map(lambda x: x[1]% 2==0).reduce(lambda x,y: min(x,y))"
   ]
  },
  {
   "cell_type": "code",
   "execution_count": 72,
   "metadata": {
    "collapsed": false
   },
   "outputs": [
    {
     "name": "stdout",
     "output_type": "stream",
     "text": [
      "[(u'1', 5), (u'0', 3), (u'3', 3), (u'2', 3)]\n"
     ]
    },
    {
     "data": {
      "text/plain": [
       "False"
      ]
     },
     "execution_count": 72,
     "metadata": {},
     "output_type": "execute_result"
    }
   ],
   "source": [
    "lines =sc.textFile (\"graph02.txt\")\n",
    "words = lines.flatMap ( lambda s: s.strip ().split (' '))\n",
    "pairs = words.map( lambda s: (s,1))\n",
    "counts = pairs.reduceByKey ( lambda a,b: a+b) #add values up wrt. keys\n",
    "output = counts.collect()\n",
    "print output\n",
    "counts.map(lambda x: x[1]% 2==0).reduce(lambda x,y: min(x,y))"
   ]
  },
  {
   "cell_type": "code",
   "execution_count": 73,
   "metadata": {
    "collapsed": false
   },
   "outputs": [
    {
     "name": "stdout",
     "output_type": "stream",
     "text": [
      "[(u'11', 2), (u'10', 4), (u'1', 4), (u'0', 2), (u'3', 2), (u'2', 4), (u'5', 4), (u'4', 4), (u'7', 4), (u'6', 4), (u'9', 4), (u'8', 2)]\n"
     ]
    },
    {
     "data": {
      "text/plain": [
       "True"
      ]
     },
     "execution_count": 73,
     "metadata": {},
     "output_type": "execute_result"
    }
   ],
   "source": [
    "lines =sc.textFile (\"graph03.txt\")\n",
    "words = lines.flatMap ( lambda s: s.strip ().split (' '))\n",
    "pairs = words.map( lambda s: (s,1))\n",
    "counts = pairs.reduceByKey ( lambda a,b: a+b) #add values up wrt. keys\n",
    "output = counts.collect()\n",
    "print output\n",
    "counts.map(lambda x: x[1]% 2==0).reduce(lambda x,y: min(x,y))"
   ]
  },
  {
   "cell_type": "code",
   "execution_count": 74,
   "metadata": {
    "collapsed": false
   },
   "outputs": [
    {
     "name": "stdout",
     "output_type": "stream",
     "text": [
      "[(u'24', 4), (u'25', 4), (u'26', 4), (u'27', 4), (u'20', 4), (u'21', 4), (u'22', 4), (u'23', 4), (u'28', 4), (u'29', 4), (u'0', 4), (u'4', 4), (u'8', 4), (u'59', 4), (u'58', 4), (u'55', 4), (u'54', 4), (u'57', 4), (u'56', 4), (u'51', 4), (u'50', 4), (u'53', 4), (u'52', 4), (u'88', 4), (u'89', 4), (u'82', 4), (u'83', 4), (u'80', 4), (u'81', 4), (u'86', 4), (u'87', 4), (u'84', 4), (u'85', 4), (u'3', 4), (u'7', 4), (u'39', 4), (u'38', 4), (u'33', 4), (u'32', 4), (u'31', 4), (u'30', 4), (u'37', 4), (u'36', 4), (u'35', 4), (u'34', 4), (u'60', 4), (u'61', 4), (u'62', 4), (u'63', 4), (u'64', 4), (u'65', 4), (u'66', 4), (u'67', 4), (u'68', 4), (u'69', 4), (u'2', 4), (u'6', 4), (u'99', 4), (u'98', 4), (u'91', 4), (u'90', 4), (u'93', 4), (u'92', 4), (u'95', 4), (u'94', 4), (u'97', 4), (u'96', 4), (u'11', 4), (u'10', 4), (u'13', 4), (u'12', 4), (u'15', 4), (u'14', 4), (u'17', 4), (u'16', 4), (u'19', 4), (u'18', 4), (u'48', 4), (u'49', 4), (u'46', 4), (u'47', 4), (u'44', 4), (u'45', 4), (u'42', 4), (u'43', 4), (u'40', 4), (u'41', 4), (u'1', 4), (u'5', 4), (u'9', 4), (u'77', 4), (u'76', 4), (u'75', 4), (u'74', 4), (u'73', 4), (u'72', 4), (u'71', 4), (u'70', 4), (u'79', 4), (u'78', 4)]\n"
     ]
    },
    {
     "data": {
      "text/plain": [
       "True"
      ]
     },
     "execution_count": 74,
     "metadata": {},
     "output_type": "execute_result"
    }
   ],
   "source": [
    "lines =sc.textFile (\"graph04.txt\")\n",
    "words = lines.flatMap ( lambda s: s.strip ().split (' '))\n",
    "pairs = words.map( lambda s: (s,1))\n",
    "counts = pairs.reduceByKey ( lambda a,b: a+b) #add values up wrt. keys\n",
    "output = counts.collect()\n",
    "print output\n",
    "counts.map(lambda x: x[1]% 2==0).reduce(lambda x,y: min(x,y))"
   ]
  },
  {
   "cell_type": "code",
   "execution_count": null,
   "metadata": {
    "collapsed": true
   },
   "outputs": [],
   "source": [
    "lines =sc.textFile (\"graph05.txt\")\n",
    "words = lines.flatMap ( lambda s: s.strip ().split (' '))\n",
    "pairs = words.map( lambda s: (s,1))\n",
    "counts = pairs.reduceByKey ( lambda a,b: a+b) #add values up wrt. keys\n",
    "output = counts.collect()\n",
    "print output\n",
    "counts.map(lambda x: x[1]% 2==0).reduce(lambda x,y: min(x,y))"
   ]
  },
  {
   "cell_type": "markdown",
   "metadata": {},
   "source": [
    "Exercise 9.3\n",
    "\n",
    "In this exercise we are given a couple of hours of raw WiFi data from a phone\n",
    "and we then have to answer three questions:\n",
    "\n",
    "(a) What are the 10 networks I observed the most, and how many times were\n",
    "they observed? Note: the bssid is unique for every network, the name\n",
    "(ssid) of the network is not necessarily unique.\n",
    "\n",
    "(b) What are the 10 most common wifi names? (ssid)\n",
    "\n",
    "(c) What are the 10 longest wifi names? (again, ssid)"
   ]
  },
  {
   "cell_type": "markdown",
   "metadata": {},
   "source": [
    "(a) So the most often observed network is called AirLink5GHz126C18, has the bssid\n",
    "34:21:09:12:6c:1a and is observed 347 times."
   ]
  },
  {
   "cell_type": "code",
   "execution_count": 65,
   "metadata": {
    "collapsed": false
   },
   "outputs": [
    {
     "name": "stdout",
     "output_type": "stream",
     "text": [
      "[(4, (u'34:21:09:18:44:d8', u'AirLink1844d8')), (4, (u'd8:c7:c8:25:9a:fa', u'wireless')), (2, (u'04:a1:51:0f:2e:02', u'internett_5GHz')), (4, (u'90:f6:52:bf:5d:ae', u'Mighty')), (16, (u'00:1f:c9:65:51:c3', u'KNS-105')), (5, (u'20:e5:2a:f4:26:b8', u'KlastrupNet')), (2, (u'44:94:fc:e2:3f:f0', u'SimonsBordel')), (5, (u'2c:41:38:fb:32:90', u'KEA-PUBLIC')), (2, (u'7c:03:d8:d2:5d:79', u'HomeBox-5D73')), (2, (u'2a:c6:8f:a9:36:19', u'Skovdalguest-network')), (15, (u'00:3a:9a:82:83:40', u'PDA-105')), (2, (u'70:54:d2:b2:8f:31', u'Signes')), (28, (u'b8:3e:59:78:ae:7d', u'DIRECT-roku-562-F4B7AB')), (2, (u'44:94:fc:5d:10:b0', u'Stinedenseje_5GHz')), (2, (u'c8:d7:19:55:0a:b8', u'FC Midtjylland (5ghz)')), (2, (u'78:ca:39:48:9e:a7', u'Emil M\\xf8rkebergs Netv\\xe6rk')), (14, (u'84:1b:5e:ab:2a:88', u'4CAgyEhN')), (176, (u'e0:3f:49:ed:fc:e0', u'VoresInternet3')), (161, (u'84:1b:5e:df:5c:58', u'NETGEAR84')), (2, (u'00:25:9c:02:39:64', u'dambra')), (61, (u'00:24:c8:69:b5:f0', u'UnderKirkeMinisteriet')), (2, (u'20:e5:2a:f6:f2:8c', u'gfdn3yq7')), (20, (u'00:1f:c9:65:75:50', u'PDA-105')), (2, (u'c4:3d:c7:86:dd:8f', u'AndersAnd')), (19, (u'00:1f:c9:65:51:c0', u'PDA-105')), (13, (u'00:1b:63:2b:eb:9d', u'Vandhasken')), (2, (u'54:e4:3a:e9:c7:5d', u'0104netv\\xe6rk')), (3, (u'00:19:70:80:44:99', u'TDC-2EB0')), (5, (u'3c:ce:73:49:d5:bf', u'SIT-BYOD')), (26, (u'a4:b1:e9:d8:26:dd', u'Solmyr')), (2, (u'20:e5:2a:f4:27:27', u'norrebrogade249')), (4, (u'00:24:8c:31:6c:b8', u'rKubryG6')), (2, (u'48:f8:b3:a6:11:bf', u'Lykkegaard')), (3, (u'08:76:ff:c6:54:00', u'TELIA-9B71FC')), (3, (u'3c:ce:73:49:21:32', u'SIT-PROD')), (2, (u'3c:ce:73:48:b3:6f', u'SIT-BYOD')), (2, (u'b2:b2:dc:f0:45:1c', u'Tofte')), (19, (u'28:cf:e9:85:d7:c5', u'GuB')), (16, (u'44:94:fc:59:cc:fc', u'Johnnyboy')), (67, (u'ee:43:f6:90:39:54', u'ZyXEL_3954')), (4, (u'ee:43:f6:9b:13:b4', u'ZyXEL_13B4')), (172, (u'00:25:9c:3b:b1:72', u'Rosenberg')), (2, (u'b0:c7:45:14:0a:6f', u'CMT-NO')), (5, (u'52:67:f0:d1:6a:e4', u'TelenorH9JJ')), (2, (u'00:8e:f2:e7:30:44', u'MadsTherese')), (2, (u'10:0d:7f:c5:f6:d9', u'3h9r54gn')), (17, (u'7c:03:4c:d0:0f:64', u'HomeBox-0F5E')), (2, (u'd8:c7:c8:25:9a:50', u'wireless')), (17, (u'34:21:09:15:de:d8', u'AirLink15ded8')), (4, (u'2c:b0:5d:de:20:88', u'ua7rt3bf')), (4, (u'3c:ce:73:56:6a:ec', u'SIT-GUEST')), (6, (u'80:ea:96:ec:83:ea', u'kolb\\xf8ttefabrikken')), (2, (u'c8:d3:a3:6a:20:b3', u'Admin')), (210, (u'bc:ee:7b:55:1a:43', u'Internet4realz')), (2, (u'20:e5:2a:f4:03:8c', u'ma66z63a')), (9, (u'00:24:01:f1:7f:e3', u'jalf-wifi')), (2, (u'2c:b0:5d:cb:73:14', u'dyvkhdx6')), (2, (u'60:a4:4c:a0:2d:34', u'')), (2, (u'a0:21:b7:ca:bc:5c', u'HolseBlumensaadt')), (186, (u'b8:a3:86:50:cb:0c', u'FOO-NET')), (2, (u'3c:ce:73:49:d5:b2', u'SIT-PROD')), (6, (u'58:98:35:37:1d:05', u'Alpha Kenny Body')), (18, (u'00:1f:c9:65:51:c1', u'MED-105')), (2, (u'a0:21:b7:ca:8d:76', u'SN5MFGFY')), (2, (u'2c:b0:5d:dd:f0:41', u'r54h36sz')), (2, (u'84:1b:5e:d3:e6:4a', u'Mojn')), (2, (u'00:8e:f2:a7:a6:58', u'rDgzVYJb')), (17, (u'00:1f:c9:65:75:53', u'KNS-105')), (18, (u'00:12:0e:26:7f:39', u'Larloch')), (2, (u'74:44:01:f4:0c:ad', u'Mpb4rMmC')), (5, (u'12:7b:ef:05:0f:84', u'annicris')), (2, (u'00:23:df:f9:96:95', u'metski')), (2, (u'00:21:91:dc:98:ec', u'Linxn')), (3, (u'3c:ce:73:57:b3:4e', u'')), (2, (u'00:23:69:04:19:c0', u'osterbro2000')), (2, (u'90:94:e4:39:b4:28', u'sjeteoktober')), (82, (u'00:1b:11:60:8d:fd', u'JuliusMaja')), (16, (u'00:15:56:f4:c8:39', u'TDC-2138')), (4, (u'00:1e:58:0b:54:da', u'lassepernille')), (2, (u'30:46:9a:60:a5:b2', u'noor-PC-Wireless')), (4, (u'20:aa:4b:78:9c:7a', u'Lava')), (4, (u'02:2b:3b:ac:b1:aa', u'HP-nomodel.520FA0')), (7, (u'34:08:04:db:78:26', u'Parnow&Bysted')), (6, (u'00:26:18:90:1c:cd', u'EfKqKEPK')), (2, (u'04:a1:51:2e:ba:86', u'cupnoodles')), (31, (u'9c:97:26:49:b5:5d', u'Level22')), (18, (u'00:1f:c9:65:6d:a3', u'KNS-105')), (4, (u'00:3a:98:b9:9b:fe', u'MED-105')), (8, (u'c0:c1:c0:3f:d6:6f', u'StoreEg')), (4, (u'98:4b:e1:2f:e0:90', u'KEA-PUBLIC')), (1, (u'00:11:d8:97:dc:15', u'Lundtoftegade 86')), (13, (u'00:1c:10:a4:35:35', u'virus')), (69, (u'20:e5:2a:f4:09:bd', u'xKx4CuMG')), (9, (u'00:3a:98:bf:cd:7e', u'MED-105')), (4, (u'58:6d:8f:74:50:16', u'Kahonta')), (3, (u'3c:ce:73:49:21:3c', u'SIT-GUEST')), (2, (u'00:24:8c:79:7b:12', u'bbhNADuq')), (11, (u'00:25:4b:06:d7:e7', u'klanair')), (2, (u'7c:03:4c:d2:6d:87', u'HomeBox-6D81')), (2, (u'ca:6c:87:e7:9e:7c', u'TelenorKXWW')), (2, (u'00:0f:66:25:02:b6', u'netshare')), (4, (u'98:4b:e1:2e:8c:d0', u'KEA-PUBLIC')), (2, (u'50:67:f0:87:ee:c8', u'mig')), (110, (u'00:22:6b:79:e4:48', u'Velthoven')), (2, (u'c4:3d:c7:86:dd:91', u'AndersAnd-5G')), (8, (u'f8:1a:67:5a:7f:9f', u'fly01_5')), (1, (u'7c:03:4c:d9:92:d8', u'HomeBox-92D2')), (2, (u'00:8e:f2:cc:38:fb', u'FitnessSvendsen')), (15, (u'00:3a:9a:82:83:42', u'GST-105')), (2, (u'84:1b:5e:b1:28:7e', u'Tore')), (3, (u'3c:ce:73:49:21:30', u'SIT-BYOD')), (2, (u'78:da:6e:a5:1a:80', u'CMTW')), (83, (u'7c:03:4c:ca:10:09', u'HomeBox-1003')), (5, (u'34:21:09:15:f2:90', u'AirLink15f290')), (22, (u'e0:3f:49:ed:fc:e4', u'VoresInternet3')), (2, (u'34:21:09:15:21:38', u'AirLink152138')), (37, (u'00:17:3f:55:57:36', u'belkin54g')), (2, (u'e0:3f:49:08:5c:ec', u'ksprbgh')), (2, (u'00:1f:33:44:78:9e', u'TheNewSuperhero')), (9, (u'06:19:70:9b:b5:d0', u'wlanhome')), (27, (u'00:18:e7:e9:ec:24', u'EyeCatcher')), (97, (u'00:1e:2a:0a:d7:8e', u'Cath')), (2, (u'00:19:70:65:50:e5', u'TDC-2930')), (2, (u'ca:6c:87:80:1f:c4', u'Tom Servo')), (2, (u'3c:ce:73:56:6a:ee', u'')), (11, (u'00:25:4b:02:30:2b', u'Welner')), (2, (u'20:e5:2a:f7:15:26', u'OXHOLMMOEBIUS')), (9, (u'00:3a:98:bf:cd:7d', u'KNS-105')), (3, (u'a0:f3:c1:a8:33:70', u'TP-LINK_A83370')), (4, (u'd8:c7:c8:25:9a:f8', u'wireless2')), (240, (u'44:94:fc:56:ce:5e', u'Lausten')), (2, (u'08:76:ff:84:ff:8c', u'TeliaGateway08-76-FF-84-FF-8C')), (2, (u'7c:03:4c:da:fe:09', u'HomeBox-FE03')), (20, (u'08:76:ff:8a:ee:32', u'TeliaGateway08-76-FF-8A-EE-32')), (11, (u'10:bf:48:3e:05:7d', u'svovlhexaflourid')), (2, (u'00:13:49:f9:35:69', u'')), (18, (u'00:1f:c9:65:6d:a1', u'MED-105')), (121, (u'08:76:ff:9c:e0:82', u'TeliaGateway08-76-FF-9C-E0-82')), (66, (u'9c:d6:43:c5:6b:94', u'dlink-6B94')), (2, (u'44:94:fc:56:d8:c7', u'DRJGD35XU')), (3, (u'00:8e:f2:e7:5c:39', u'v9HpkDDS')), (2, (u'12:7b:ef:b5:54:f4', u'ZyXEL_54F4')), (3, (u'00:19:70:4d:b4:5b', u'TDC-D6C4')), (27, (u'84:1b:5e:01:77:68', u'jamprivat')), (127, (u'80:ea:96:ee:00:78', u'The Dark Side')), (25, (u'00:24:01:77:5d:33', u'dlink43')), (2, (u'a0:21:b7:5e:52:43', u'Santoro')), (5, (u'00:3a:9a:c4:a3:ed', u'KNS-105')), (2, (u'ee:43:f6:9c:22:bc', u'ZyXEL_22BC')), (2, (u'fe:f5:28:12:e6:d4', u'ZyXEL_E6D4')), (2, (u'50:9f:27:c5:b0:e1', u'3-LTE-81EC45')), (2, (u'00:23:69:04:19:c1', u'osterbro2000-2')), (2, (u'08:bd:43:af:c5:88', u'242424')), (2, (u'3c:ce:73:49:c4:9c', u'SIT-GUEST')), (2, (u'2c:b0:5d:b8:84:0c', u'Bjerne')), (2, (u'68:a8:6d:5b:c1:65', u'David & Marie')), (20, (u'20:e5:2a:f3:ff:eb', u'TYsECFNN')), (11, (u'00:1f:c9:65:71:62', u'GST-105')), (13, (u'00:0b:6b:22:db:4f', u'AIObserver')), (3, (u'3c:ce:73:49:c4:93', u'SIT-GUEST')), (139, (u'c0:a0:bb:e8:da:c1', u'THOM274V')), (2, (u'a0:f3:c1:77:fa:e5', u'MOJ2')), (7, (u'00:3a:9a:c4:a3:e1', u'MED-105')), (2, (u'12:7b:ef:24:1a:14', u'ZyXEL_1A14')), (24, (u'00:23:69:26:d7:d7', u'Helle')), (4, (u'00:19:70:60:de:3a', u'TDC-F590')), (2, (u'00:26:f2:12:54:48', u'Lisser')), (5, (u'a0:21:b7:e2:d7:7f', u'InternetOfDoom')), (2, (u'3c:ce:73:49:06:ee', u'')), (7, (u'00:3a:9a:c4:a3:e2', u'KNS-105')), (4, (u'2a:28:5d:45:e2:dc', u'ZyXEL_E2DC')), (2, (u'00:24:6c:53:24:10', u'wireless')), (2, (u'84:c9:b2:d4:8d:64', u'3sal')), (4, (u'3c:ce:73:49:0d:5e', u'')), (6, (u'84:1b:5e:d3:dc:32', u'Aveny')), (2, (u'00:18:f8:aa:d2:6b', u'linksys')), (4, (u'0a:19:70:9e:8d:68', u'')), (2, (u'd0:2d:b3:d6:f7:d5', u'B970')), (35, (u'20:e5:2a:f7:35:a6', u'xa75b6hj')), (2, (u'7c:03:d8:c8:cc:d8', u'HomeBox-CCD2')), (2, (u'00:19:70:9a:d6:45', u'TDC-4224')), (2, (u'00:13:c3:06:86:41', u'DSB_WLAN')), (2, (u'fe:f5:28:11:6c:24', u'ZyXEL_6C24')), (4, (u'00:19:70:68:ec:66', u'TDC-7D7A')), (2, (u'd8:c7:c8:25:9a:ba', u'wireless')), (14, (u'80:ea:96:f3:0b:58', u'Vores net')), (4, (u'00:19:cb:0b:24:22', u'Makeroni')), (3, (u'c4:04:15:3b:aa:0e', u'ohh')), (2, (u'fe:f5:28:83:ed:04', u'ZyXEL_ED04')), (5, (u'00:3a:9a:c4:a3:e0', u'PDA-105')), (31, (u'00:19:70:9d:48:c4', u'TDC-EEF8')), (2, (u'12:a0:96:dd:87:ec', u'DIRECT-6m-BRAVIA')), (7, (u'74:44:01:87:ef:96', u'NejNejNej')), (2, (u'00:21:91:f6:4f:2d', u'#KBHPolering.dk')), (4, (u'20:e5:2a:f6:f7:ad', u'bksafkhs')), (2, (u'c0:3f:0e:bf:52:f8', u'zqHGyz7E')), (4, (u'00:19:70:9b:c0:3f', u'TDC-710C')), (4, (u'58:6d:8f:74:50:17', u'Kahonta')), (318, (u'e8:08:8b:c9:c1:79', u'Housing People')), (17, (u'00:23:69:ae:0b:ca', u'GuessWho4.0')), (33, (u'5c:d9:98:63:bf:e2', u'Bismarck')), (2, (u'28:28:5d:fd:20:50', u'drv')), (2, (u'b2:b2:dc:97:f2:ec', u'TelenorKEFK')), (51, (u'd8:50:e6:4f:a8:40', u'RedHaus')), (2, (u'60:a4:4c:66:f8:54', u'Jama')), (139, (u'90:94:e4:83:ff:d6', u'Vejensnet')), (4, (u'b0:c7:45:14:0c:29', u'CMT-NO')), (7, (u'9c:97:26:bb:01:45', u'TelenorBB0145')), (21, (u'00:22:15:6a:d3:70', u'A5sqTV9m')), (2, (u'3c:ce:73:56:f2:c3', u'SIT-GUEST')), (2, (u'fe:f5:28:0f:7d:54', u'Kaffe')), (2, (u'00:1e:52:7b:e5:e8', u'NorgaardCasa')), (2, (u'f8:1a:67:5a:7f:9e', u'fly01')), (2, (u'34:21:09:0b:5c:aa', u'AirLink0B5CAA')), (5, (u'08:76:ff:84:ae:98', u'TELIA-08284D')), (2, (u'00:1d:6a:a3:fd:63', u'hb2')), (315, (u'44:94:fc:56:08:fb', u'Lausten_5GHz')), (96, (u'00:0b:6b:23:4f:11', u'AIObserver')), (1, (u'84:1b:5e:46:6e:7e', u'Berggreensgade_EXT')), (4, (u'00:1c:b3:ad:cc:42', u'HomeBaseLynge')), (5, (u'3c:ce:73:49:0d:5d', u'SIT-PROD')), (3, (u'28:28:5d:08:11:d8', u'Astrid')), (347, (u'34:21:09:12:6c:1a', u'AirLink5GHz126C18')), (5, (u'00:19:70:6c:e1:18', u'Internet')), (5, (u'3c:ce:73:49:0d:5f', u'SIT-BYOD')), (4, (u'00:8e:f2:b3:89:7c', u'zHYndJ6b')), (60, (u'c0:3f:0e:2d:97:92', u'BIP')), (5, (u'00:3a:98:b9:9b:f2', u'KNS-105')), (2, (u'7c:03:4c:d9:4a:22', u'NorgaardCasa')), (2, (u'48:5b:39:3c:2a:03', u'FvmKE7kb')), (2, (u'20:e5:2a:f4:64:a9', u'a9qd76ry')), (5, (u'fe:f5:28:12:a8:cc', u'ZyXEL_A8CC')), (4, (u'00:19:70:9e:7d:5a', u'TDC-75B5')), (2, (u'3c:ce:73:49:06:ec', u'SIT-GUEST')), (2, (u'00:19:70:64:cd:c8', u'TDC-0FEC')), (19, (u'10:0d:7f:c5:f4:5e', u'PrettyFlyForAWifi')), (2, (u'2a:28:5d:45:de:bc', u'ZyXEL_DEBC')), (14, (u'00:19:70:6b:79:a5', u'TDC-EAF4')), (2, (u'00:1f:c6:72:bb:69', u'PqdESUaS')), (16, (u'2c:b0:5d:d9:64:b8', u'zjfqaqv6')), (2, (u'3c:ce:73:49:d5:be', u'')), (14, (u'2a:cf:e9:85:d7:c4', u'GuBguest')), (3, (u'00:24:36:a6:93:df', u'Peterh\\xe4nsel')), (37, (u'ac:7f:3e:ef:ef:fd', u'Claudia&Christian')), (2, (u'34:21:09:10:1b:d0', u'AirLink101bd0')), (2, (u'44:94:fc:ff:71:98', u'Locht')), (15, (u'0c:96:bf:b7:50:e0', u'HUAWEI-E5172-50E0')), (2, (u'a4:b1:e9:f1:bb:c6', u'TelenorF1BBC6')), (4, (u'f8:1e:df:fc:f6:7d', u'EBK Work')), (8, (u'00:8e:f2:5b:b2:28', u'Denmark')), (15, (u'00:3a:9a:82:83:43', u'KNS-105')), (4, (u'68:a8:6d:5e:6d:79', u'Apple Network 5e6d79')), (2, (u'80:ea:96:ec:83:eb', u'kolb\\xf8ttefabrikken')), (89, (u'e8:08:8b:c9:c9:4e', u'Sex hulen')), (3, (u'7c:03:4c:d5:61:f7', u'HomeBox-61F1')), (5, (u'c8:d7:19:4e:1c:ce', u'CocoNet')), (3, (u'00:24:36:a6:93:e0', u'Peterh\\xe4nsel (5 GHz)')), (314, (u'00:22:b0:b3:f2:ea', u'Bronx')), (10, (u'24:a2:e1:ed:7a:70', u'Apple Network ed7a71')), (2, (u'00:8e:f2:cc:59:be', u'U3Au7hJ7')), (8, (u'2c:41:38:fb:32:80', u'KEA-PUBLIC')), (2, (u'04:a1:51:d4:7f:c5', u'NETGEAR28')), (2, (u'a0:21:b7:e5:54:9e', u'Modler')), (8, (u'7c:03:4c:dc:50:1b', u'HomeBox-5015')), (2, (u'02:aa:4b:78:9c:79', u'Cisco15659-guest')), (18, (u'00:1f:c9:65:75:51', u'MED-105')), (5, (u'3c:ce:73:49:d5:bd', u'SIT-PROD')), (4, (u'fe:f5:28:1a:b7:44', u'kuczynski')), (17, (u'00:3a:9a:82:83:41', u'MED-105')), (2, (u'74:44:01:f2:d1:d8', u'Stuenth')), (2, (u'5c:33:8e:ce:08:13', u'TDC-6CCC')), (324, (u'34:21:09:12:6c:18', u'AirLink126C18')), (2, (u'00:24:17:db:b8:9b', u'TELIA-6AC89A')), (2, (u'ce:5d:4e:1c:c4:c4', u'TelenorTKPE')), (6, (u'00:3a:98:b9:9b:f1', u'MED-105')), (2, (u'08:76:ff:46:3e:36', u'TeliaGateway08-76-FF-46-3E-36')), (3, (u'04:a1:51:d4:13:d1', u'Daninet')), (7, (u'00:19:70:76:0b:13', u'homelinux')), (2, (u'00:24:36:9c:bb:d1', u'wwwinding')), (54, (u'ee:43:f6:3b:da:3c', u'ZyXEL_DA3C')), (2, (u'28:cf:da:b7:27:5e', u'boing network')), (2, (u'7c:03:4c:cc:bd:4f', u'HomeBox-BD49')), (2, (u'10:fe:ed:88:ad:ce', u'pingpongdingdong')), (2, (u'7c:d1:c3:c9:c2:89', u'Lillie airport')), (5, (u'00:8e:f2:cc:ec:2d', u'Sorensen')), (2, (u'3c:ce:73:49:06:ef', u'SIT-BYOD')), (2, (u'24:a2:e1:ed:7a:71', u'Apple Network ed7a71')), (8, (u'00:3a:98:bf:cd:72', u'KNS-105')), (4, (u'5c:33:8e:2a:ae:08', u'WGW-34EC')), (2, (u'3c:ce:73:57:b3:4f', u'SIT-BYOD')), (2, (u'3c:ce:73:56:6a:e3', u'SIT-GUEST')), (2, (u'44:94:fc:56:0d:28', u'Hemmingsen_5GHz')), (54, (u'30:60:23:06:ca:55', u'TDC-TV-CA54')), (3, (u'00:25:9c:e1:88:6d', u'Christina og Jesper')), (2, (u'16:9a:dd:89:ac:02', u'Guest Network')), (12, (u'e8:08:8b:30:89:29', u'3-LTE-926E38')), (10, (u'64:66:b3:d4:69:2e', u'Flompex')), (2, (u'3c:ce:73:49:d5:b1', u'')), (338, (u'00:24:b2:98:39:d2', u'NETGEAR_1')), (5, (u'3c:ce:73:48:b3:6c', u'SIT-GUEST')), (211, (u'28:cf:e9:84:a1:c3', u'Kaspers Wi-Fi-netv\\xe6rk')), (5, (u'00:3a:9a:c4:a3:ee', u'MED-105')), (12, (u'00:1f:c9:65:71:63', u'KNS-105')), (2, (u'10:0d:7f:ca:29:db', u'CAPH')), (2, (u'48:5b:39:8c:e3:df', u'y6hjbddy')), (2, (u'7c:03:4c:d2:b0:84', u'HomeBox-B07E')), (2, (u'10:7b:ef:72:d4:2c', u'DanskNet-99f11d')), (14, (u'b8:a3:86:65:c8:9b', u'Feauri')), (2, (u'00:25:9c:31:7b:bf', u'green')), (5, (u'00:19:70:2b:aa:c5', u'TDC-8DA0')), (34, (u'06:19:70:4d:aa:9b', u'wlanhome')), (7, (u'00:3a:98:b9:9b:f0', u'PDA-105')), (2, (u'12:7b:ef:24:18:14', u'Slazenger')), (6, (u'12:7b:ef:b4:98:54', u'ZyXEL_9854')), (195, (u'f8:1e:df:ff:a3:a8', u'Time Capsule 5 GHz')), (2, (u'20:c9:d0:27:48:60', u'Caractacus 5GHz')), (5, (u'3c:ce:73:49:d5:bc', u'SIT-GUEST')), (6, (u'00:21:29:aa:f1:50', u'ESBEN-PC_Network')), (4, (u'3c:ce:73:49:c4:9d', u'SIT-PROD')), (3, (u'3c:ce:73:57:b3:4d', u'SIT-PROD')), (2, (u'9c:97:26:bb:86:e3', u'TelenorBB86E3')), (3, (u'36:23:87:51:d1:29', u'DIRECT-WX-BRAVIA')), (9, (u'00:3a:98:bf:cd:71', u'MED-105')), (2, (u'00:1b:2f:f4:5c:58', u'KKN')), (2, (u'04:a1:51:d2:aa:cb', u'Daninet_5GHz')), (2, (u'00:19:70:36:a9:78', u'Telemester')), (2, (u'c8:d7:19:4e:1c:cd', u'CocoNet')), (2, (u'9c:97:26:57:15:f9', u'TeliaGateway9C-97-26-57-15-F9')), (2, (u'20:cf:30:2d:5c:20', u'qjYXxHfX')), (2, (u'00:19:70:75:dc:9e', u'TDC-2248')), (2, (u'00:19:70:83:e3:5b', u'TDC-1578')), (4, (u'd0:2d:b3:d6:ed:c1', u'3-LTE-0EBE2E')), (3, (u'00:24:01:cc:f5:34', u'TopGun')), (52, (u'74:44:01:f2:fe:fa', u'VoresInternet2')), (5, (u'c0:a0:bb:fe:84:16', u'The Connector 5GHz')), (2, (u'9c:97:26:a1:09:3d', u'TelenorA1093D')), (3, (u'00:19:70:9a:09:72', u'TDC-CAF4')), (72, (u'28:cf:e9:86:42:70', u'Esbjerg')), (4, (u'3c:ce:73:49:21:3e', u'')), (3, (u'00:21:e9:b8:f2:70', u'CNS')), (2, (u'2c:b0:5d:d2:6b:3c', u'bf4xzrss')), (2, (u'00:1f:c6:60:99:d1', u'SJqSGfs7')), (2, (u'10:0d:7f:ca:1a:6c', u'hg4346pp')), (25, (u'00:19:70:9f:dc:d7', u'TDC-A085')), (5, (u'3c:ce:73:49:21:3f', u'SIT-BYOD')), (89, (u'ac:7f:3e:ef:ef:fc', u'Claudia&Christian')), (2, (u'90:72:40:0f:7a:8a', u'S+C')), (9, (u'68:a8:6d:59:cd:ad', u'louise')), (3, (u'00:19:70:6f:cf:04', u'TDC-2060')), (11, (u'00:1f:c9:65:71:61', u'MED-105')), (4, (u'20:c9:d0:ab:78:4d', u'Superlommetrold')), (2, (u'12:7b:ef:b4:1a:9c', u'KlubZINDZYG')), (2, (u'a0:21:b7:d0:72:dd', u'jz7Dta4G')), (2, (u'00:22:b0:fd:72:56', u'Chris')), (63, (u'00:19:70:1c:6e:a2', u'TDC-E7E4')), (7, (u'00:16:a6:15:a4:e0', u'MS-NO')), (2, (u'06:19:70:2b:aa:c5', u'RegHAdm')), (106, (u'10:9a:dd:8e:17:de', u'JMM netv\\xe6rk 5 GHz')), (5, (u'f0:7d:68:57:fc:50', u'pORTEN TIL rANDERS')), (2, (u'00:19:70:4b:75:3f', u'TDC-4720')), (4, (u'00:8e:f2:c1:07:dc', u'rjd6mbmj')), (2, (u'7c:03:d8:c9:e7:4f', u'HomeBox-E749')), (2, (u'b2:b2:dc:55:cd:bc', u'Bibi_NET')), (51, (u'80:ea:96:ee:00:79', u'The Dark Side 5 GHz')), (191, (u'28:cf:e9:84:a1:c2', u'Kaspers Wi-Fi-netv\\xe6rk')), (7, (u'00:18:e7:e9:ec:26', u'EyeCatcher_Media')), (2, (u'20:e5:2a:f7:2b:34', u'Per1')), (47, (u'12:7b:ef:04:8f:64', u'TLG18-Kongen-af-2100')), (2, (u'74:44:01:60:ce:bd', u'SgsaYasx')), (4, (u'3c:ce:73:49:c5:4e', u'')), (2, (u'06:19:70:83:f1:08', u'wlanhome')), (74, (u'10:9a:dd:8e:17:dd', u'JMM netv\\xe6rk')), (14, (u'00:24:17:dc:18:bd', u'TELIA-4E284F')), (27, (u'00:24:8c:31:82:ff', u'jYUVqThD')), (2, (u'c4:04:15:01:f0:e8', u'house of mordor')), (2, (u'00:1e:e5:a2:56:8b', u'linksys')), (2, (u'34:21:09:17:63:80', u'AirLink176380')), (2, (u'48:5b:39:1d:b8:f9', u'KristinaNet')), (2, (u'78:f5:fd:ae:78:2f', u'4G-Mobile-WiFi-782F')), (4, (u'90:72:40:14:23:37', u'The Wire')), (12, (u'e0:91:f5:ad:90:1b', u'KUOTA')), (2, (u'00:02:cf:df:aa:58', u'Tigerdyr')), (2, (u'3c:ce:73:56:f2:c1', u'')), (5, (u'9c:97:26:57:15:99', u'TeliaGateway9C-97-26-57-15-99')), (2, (u'00:1f:1f:2a:08:c8', u'Buenos Aires')), (14, (u'00:1f:c9:65:6d:a0', u'PDA-105')), (2, (u'f0:92:1c:a3:30:43', u'HP-Print-43-Deskjet 3520 series')), (2, (u'c4:04:15:8b:47:69', u'Gin-aben 5G')), (4, (u'58:6d:8f:dd:15:bf', u'Team Dogan')), (2, (u'e0:46:9a:8f:6d:f1', u'AlkoHolger')), (2, (u'12:7b:ef:24:30:6c', u'Mha')), (2, (u'2c:b0:5d:cb:6e:2e', u'3zgFP6rN')), (7, (u'00:25:9c:da:e5:2a', u'linksysJE')), (2, (u'74:44:01:f8:3d:67', u'zbm56aja')), (6, (u'90:4e:2b:02:a5:bd', u'Gausboel')), (4, (u'3c:ce:73:48:b3:6d', u'SIT-PROD')), (4, (u'28:cf:da:ad:0a:62', u'Charlottes Wi-Fi-netv\\xe6rk')), (2, (u'34:21:09:13:a0:70', u'FerrariFinn1')), (3, (u'40:cb:a8:f8:99:22', u'3-LTE-0DCFD9')), (2, (u'10:c6:1f:d0:03:0e', u'4G-Gateway-030D')), (19, (u'00:1f:c9:65:51:c2', u'GST-105')), (4, (u'84:1b:5e:01:74:30', u'NATLIV')), (2, (u'90:72:40:14:23:36', u'The Wire')), (192, (u'bc:ee:7b:55:1a:42', u'Internet4realz')), (6, (u'00:19:70:2e:46:2d', u'k8')), (2, (u'b2:b2:dc:57:3c:84', u'ZyXEL_3C84')), (2, (u'3c:ce:73:56:f2:cd', u'SIT-PROD')), (2, (u'28:cf:da:b8:bf:e1', u'casper sonqvists Net')), (4, (u'20:03:7f:1f:12:00', u'J.N')), (12, (u'12:00:9f:f7:f0:79', u'hpsetup')), (3, (u'3c:ce:73:49:21:33', u'SIT-GUEST')), (17, (u'a0:21:b7:c8:41:f7', u'qyRyM3Nf')), (2, (u'c8:d3:a3:6a:20:b1', u'Admin')), (11, (u'00:19:70:60:d7:25', u'Internet')), (5, (u'00:3a:98:b9:9b:fd', u'KNS-105')), (89, (u'2c:b0:5d:4a:35:26', u'Xhystos24')), (14, (u'a0:21:b7:ee:71:0b', u'YHbYGHqp')), (2, (u'20:4e:7f:4b:d8:22', u'LineJonas')), (19, (u'00:1f:c9:65:75:52', u'GST-105')), (19, (u'7c:03:4c:c7:2b:db', u'HomeBox-2BD5')), (2, (u'00:24:b2:58:d3:0f', u'Hun Bun Love')), (4, (u'00:1e:2a:52:7c:5a', u'BerlinDam')), (2, (u'a4:b1:e9:2c:9e:ca', u'TeliaGatewayA4-B1-E9-2C-9E-CA')), (4, (u'20:c9:d0:a3:54:9f', u'Charlotte R.s Wi-Fi-netv\\xe6rk')), (4, (u'68:7f:74:1c:1e:7f', u'Aristokanin')), (15, (u'c8:d3:a3:67:70:8d', u'sollysolly')), (13, (u'a0:21:b7:e5:44:32', u'ngqfemzs')), (125, (u'84:1b:5e:6f:ff:b9', u'NETGEAR90')), (14, (u'c0:a0:bb:e9:57:37', u'LANDS433TV')), (2, (u'08:76:ff:85:04:2f', u'TeliaGateway08-76-FF-85-04-2F')), (15, (u'00:26:18:90:04:fa', u'The Love Crib')), (2, (u'34:21:09:10:1e:80', u'Bathulen')), (3, (u'7c:03:4c:ca:22:95', u'INTERNET')), (2, (u'a0:21:b7:5e:49:ab', u'vxpuxz4q')), (8, (u'00:3a:98:bf:cd:7f', u'PDA-105')), (2, (u'00:19:70:9e:83:19', u'TDC-5A59')), (2, (u'00:26:18:90:16:1e', u'33ux3Dxf')), (5, (u'00:14:d1:c4:c9:28', u'SneWire')), (4, (u'00:1a:92:61:5e:d6', u'kM9gV49n')), (2, (u'90:f6:52:c9:ac:06', u'Nagel')), (2, (u'3c:ce:73:49:c4:9f', u'SIT-BYOD')), (6, (u'e0:cb:4e:51:d1:64', u'6ERysP6f')), (5, (u'00:24:8c:18:db:d5', u'JmMdvhK3')), (4, (u'c4:3d:c7:32:49:36', u'revgaf')), (4, (u'3c:ce:73:57:b3:4c', u'SIT-GUEST')), (4, (u'00:19:70:a4:e5:8c', u'TDC-8CD5')), (2, (u'b2:b2:dc:cc:15:44', u'ACAB1312')), (3, (u'00:1e:2a:7d:62:08', u'gyHus5y4')), (18, (u'00:1f:c9:65:6d:a2', u'GST-105')), (2, (u'28:cf:da:ad:0a:61', u'Charlottes Wi-Fi-netv\\xe6rk')), (2, (u'00:16:b6:3a:b7:a6', u'redstar')), (2, (u'00:19:70:75:d4:64', u'TDC-512C')), (4, (u'10:0d:7f:c5:b3:f4', u'guandaihome')), (2, (u'e0:3f:49:08:5c:e8', u'ksprbgh')), (5, (u'3c:ce:73:49:21:3d', u'SIT-PROD')), (9, (u'00:8e:f2:cc:d5:12', u'35fa5zqs')), (7, (u'3c:ce:73:49:c5:4c', u'SIT-GUEST')), (6, (u'c0:a0:bb:e9:57:39', u'LANDS433TV5GHz')), (17, (u'2c:b0:5d:d9:88:cd', u'Grethe2')), (2, (u'04:a1:51:27:84:71', u'baredetvarmig_5GHz')), (8, (u'00:3a:9a:c4:a3:ef', u'PDA-105')), (2, (u'ee:43:f6:9d:8f:e4', u'ZyXEL_8FE4')), (2, (u'3c:ce:73:49:06:e3', u'SIT-GUEST')), (20, (u'12:7b:ef:04:a4:44', u'ZyXEL_A444')), (23, (u'02:f1:f9:e9:59:90', u'AIMesh')), (5, (u'00:19:70:24:5c:40', u'TDC-C42C')), (2, (u'00:8e:f2:b5:5b:a3', u'PmjuJrqp')), (2, (u'00:8e:f2:c1:00:b6', u'jmaftfhn')), (2, (u'b2:b2:dc:55:23:bc', u'Zimsen')), (2, (u'00:8e:f2:da:7b:3c', u'phry3rsq')), (8, (u'00:19:70:9b:b5:d0', u'TDC-E520')), (159, (u'f8:1e:df:ff:a3:a7', u'Giver kode for sex')), (13, (u'00:1f:c9:65:71:60', u'PDA-105')), (5, (u'fe:f5:28:12:de:bc', u'ANHANGRA')), (12, (u'00:8e:f2:cf:f3:8e', u'Fogh')), (4, (u'78:da:6e:a5:1a:70', u'CMTW')), (6, (u'00:30:bd:65:90:b7', u'WLAN')), (2, (u'c0:3f:0e:f5:2f:8f', u'mXUAKjgf')), (4, (u'98:4b:e1:2e:8c:c0', u'KEA-PUBLIC')), (4, (u'00:21:91:dc:98:ea', u'Linx')), (4, (u'c4:3d:c7:34:74:bc', u'47xmp7uu')), (2, (u'3c:ce:73:56:6a:ed', u'SIT-PROD')), (5, (u'3c:ce:73:49:c5:4d', u'SIT-PROD')), (272, (u'2c:b0:5d:ef:08:2b', u'Playhouse')), (2, (u'00:19:70:9e:b2:1c', u'SkovNet')), (5, (u'00:19:70:9f:b0:58', u'TDC-2AED')), (2, (u'7c:03:4c:d7:94:45', u'pingpongdingdong')), (6, (u'c8:be:19:62:97:64', u'LostInSpace')), (12, (u'28:cf:e9:85:d7:c4', u'GuB')), (4, (u'b8:a3:86:4c:86:78', u'Salmeslot')), (2, (u'a0:21:b7:4f:84:9f', u'Baboon Network')), (2, (u'00:1e:2a:7d:db:0f', u'hXFh3PpC')), (136, (u'00:11:50:39:f9:90', u'belkin54g')), (2, (u'f8:1e:df:fc:f8:b2', u'stoffelof')), (2, (u'c4:3d:c7:62:ee:1e', u'FULLRATEEE1E')), (2, (u'7c:03:4c:c6:20:54', u'MS')), (2, (u'b2:b2:dc:9c:6b:5c', u'BEL')), (4, (u'd8:c7:c8:25:9a:f9', u'Mobil')), (2, (u'00:1b:63:20:c5:a7', u'Apple Network 20c5a7')), (6, (u'3c:ce:73:49:c5:4f', u'SIT-BYOD')), (2, (u'00:19:70:a5:6a:7c', u'SundhedHjemme')), (13, (u'78:54:2e:51:ef:a6', u'Ship ahoy!')), (5, (u'3c:ce:73:49:0d:5c', u'SIT-GUEST')), (2, (u'00:0f:cc:49:e4:94', u'')), (3, (u'3c:ce:73:49:c4:90', u'SIT-BYOD')), (2, (u'ca:d7:19:4e:1c:cf', u'')), (4, (u'e4:ce:8f:69:ae:01', u'Pia Lynnerups Netv\\xe6rk')), (6, (u'98:4b:e1:2f:e0:80', u'KEA-PUBLIC')), (95, (u'00:17:3f:82:37:14', u'frede')), (36, (u'00:19:70:4d:aa:9b', u'KABELL')), (2, (u'ca:d7:19:4e:1c:ce', u'CocoNet-g\\xe6st')), (2, (u'00:19:70:83:f1:08', u'TDC-8D2C')), (8, (u'c8:60:00:93:f1:ee', u'NiMe2.4')), (2, (u'20:aa:4b:95:1a:bf', u'karint')), (4, (u'74:44:01:f2:c9:22', u'zEXUPnXk')), (9, (u'2c:b0:5d:4a:35:25', u'Xhystos50')), (8, (u'7c:03:4c:da:5e:5d', u'HomeBox-5E57')), (2, (u'3c:ce:73:48:b3:6e', u'')), (2, (u'50:67:f0:7d:64:6a', u'DanskNet')), (4, (u'74:44:01:89:b6:6d', u'NETGEAR98')), (2, (u'00:24:b2:b3:df:58', u'Modler2')), (52, (u'00:8e:f2:e7:34:fa', u'okholm')), (2, (u'3c:ce:73:49:06:ed', u'SIT-PROD')), (2, (u'c4:3d:c7:a3:40:c0', u'NT_Netvaerk_5')), (18, (u'00:14:bf:7d:b9:cb', u'Fie Lufthavn')), (2, (u'a4:b1:e9:ac:cf:a7', u'TelenorACCFA7')), (7, (u'0c:96:bf:b7:fe:cd', u'3-LTE-358C02')), (2, (u'c0:3f:0e:f3:bd:3a', u'54xAgbrg')), (2, (u'00:24:8c:79:e6:17', u'XS9Ay7rj')), (4, (u'20:c9:d0:ab:78:4c', u'Lommetrold')), (2, (u'00:26:f2:68:4f:0c', u'Kathrine')), (2, (u'44:94:fc:60:50:23', u'Stinedenseje')), (2, (u'3c:ce:73:49:06:e2', u'SIT-PROD')), (2, (u'14:d6:4d:e5:2a:28', u'dlink')), (2, (u'20:e5:2a:f4:74:72', u'TommySoph')), (2, (u'10:bf:48:3e:05:7e', u'svovlhexaflourid')), (2, (u'04:a1:51:31:ef:78', u'baredetvarmig')), (2, (u'34:21:09:17:76:b8', u'hvemersej')), (2, (u'00:13:f7:a4:3d:c2', u'A_Jakobsen')), (5, (u'3c:ce:73:56:6a:ef', u'SIT-BYOD')), (2, (u'3c:ce:73:56:f2:cc', u'SIT-GUEST')), (2, (u'3c:ce:73:49:c4:af', u'SIT-BYOD')), (2, (u'fe:f5:28:88:b4:54', u'ZyXEL_B454')), (3, (u'00:3a:98:b9:9b:ff', u'PDA-105')), (27, (u'00:19:70:2b:a1:db', u'PRIVATE')), (5, (u'fe:f5:28:1b:1b:0c', u'Telenor4KJC')), (2, (u'7c:03:d8:c8:ce:fb', u'HomeBox-CEF5')), (2, (u'20:aa:4b:eb:55:71', u'philkris')), (4, (u'74:44:01:f4:10:69', u'patricksvendsen')), (6, (u'a0:f3:c1:13:fc:9b', u'Denmark')), (2, (u'84:1b:5e:ad:4b:c9', u'N6h6VAS4')), (2, (u'9c:97:26:9f:31:6f', u'ChristianHelvad')), (3, (u'90:e6:ba:4e:c3:08', u'JFqCpmat')), (9, (u'00:3a:98:bf:cd:70', u'PDA-105')), (18, (u'00:24:17:be:9d:83', u'TELIA-F689B6')), (4, (u'44:94:fc:56:0b:d1', u'Johnnyboy_5GHz')), (12, (u'bc:ee:7b:56:51:d4', u'Christensen')), (2, (u'00:19:70:21:12:91', u'TDC-5BC8')), (2, (u'c0:c1:c0:3f:d6:6e', u'StoreEg')), (2, (u'7c:03:4c:c8:40:84', u'HomeBox-407E')), (18, (u'2a:cf:e9:85:d7:c5', u'GuBguest')), (2, (u'04:a1:51:1f:66:92', u'upPTDgEt_5GHz')), (2, (u'3c:ce:73:49:06:e0', u'SIT-BYOD'))]\n"
     ]
    },
    {
     "data": {
      "text/plain": [
       "[(347, (u'34:21:09:12:6c:1a', u'AirLink5GHz126C18')),\n",
       " (338, (u'00:24:b2:98:39:d2', u'NETGEAR_1')),\n",
       " (324, (u'34:21:09:12:6c:18', u'AirLink126C18')),\n",
       " (318, (u'e8:08:8b:c9:c1:79', u'Housing People')),\n",
       " (315, (u'44:94:fc:56:08:fb', u'Lausten_5GHz')),\n",
       " (314, (u'00:22:b0:b3:f2:ea', u'Bronx')),\n",
       " (272, (u'2c:b0:5d:ef:08:2b', u'Playhouse')),\n",
       " (240, (u'44:94:fc:56:ce:5e', u'Lausten')),\n",
       " (211, (u'28:cf:e9:84:a1:c3', u'Kaspers Wi-Fi-netv\\xe6rk')),\n",
       " (210, (u'bc:ee:7b:55:1a:43', u'Internet4realz'))]"
      ]
     },
     "execution_count": 65,
     "metadata": {},
     "output_type": "execute_result"
    }
   ],
   "source": [
    "lines = sc. textFile (\"wifi.data\")\n",
    "wifis = lines.map(eval)\n",
    "pairs = wifis.map(lambda s:((s[\"bssid\"],s[\"ssid\"]),1))\n",
    "counts = pairs.reduceByKey(lambda a,b: a+b)\n",
    "counts = counts.map(lambda s: (s[1],s[0])) # s[1]:values, s[0]:keys\n",
    "print counts.collect()\n",
    "sortc = counts.sortByKey(False) # sort by reversed key\n",
    "sortc.take(10)"
   ]
  },
  {
   "cell_type": "markdown",
   "metadata": {},
   "source": [
    "(b) Solution: Same algorithm as the previous part is used expect we use ssid\n",
    "instead of bssid."
   ]
  },
  {
   "cell_type": "code",
   "execution_count": 68,
   "metadata": {
    "collapsed": false
   },
   "outputs": [
    {
     "name": "stdout",
     "output_type": "stream",
     "text": [
      "Kaspers Wi-Fi-netværk: 402\n",
      "Internet4realz: 402\n",
      "AirLink5GHz126C18: 347\n",
      "NETGEAR_1: 338\n",
      "AirLink126C18: 324\n",
      "Housing People: 318\n",
      "Lausten_5GHz: 315\n",
      "Bronx: 314\n",
      "Playhouse: 272\n",
      "Lausten: 240\n"
     ]
    }
   ],
   "source": [
    "pairs = lines.map( lambda x: eval (x)).map( lambda x:(x['ssid'],\n",
    "1))\n",
    "counts = pairs .reduceByKey ( lambda a, b: a + b)\n",
    "counts = counts .map( lambda (a,b):(b,a))\n",
    "output = counts .sortByKey (0).take(10)\n",
    "for (count , ssid ) in output :\n",
    "     print (\"%s: %i\" % (ssid , count ))"
   ]
  },
  {
   "cell_type": "markdown",
   "metadata": {},
   "source": [
    "(c) Solution: Here, instead of count the occurrence, we count the length of ssid."
   ]
  },
  {
   "cell_type": "code",
   "execution_count": 71,
   "metadata": {
    "collapsed": false
   },
   "outputs": [
    {
     "name": "stdout",
     "output_type": "stream",
     "text": [
      "HP-Print-43-Deskjet 3520 series: 31\n",
      "TeliaGatewayA4-B1-E9-2C-9E-CA: 29\n",
      "TeliaGateway08-76-FF-84-FF-8C: 29\n",
      "TeliaGateway9C-97-26-57-15-F9: 29\n",
      "TeliaGateway08-76-FF-46-3E-36: 29\n",
      "TeliaGateway9C-97-26-57-15-99: 29\n",
      "TeliaGateway08-76-FF-8A-EE-32: 29\n",
      "TeliaGateway08-76-FF-85-04-2F: 29\n",
      "TeliaGateway08-76-FF-9C-E0-82: 29\n",
      "Charlotte R.s Wi-Fi-netværk: 27\n"
     ]
    }
   ],
   "source": [
    "pairs = lines .map( lambda x: eval (x)).map( lambda x:(x['ssid'],len (x['ssid'])))\n",
    "counts = pairs .reduceByKey ( lambda a, b: a)\n",
    "counts = counts.map( lambda (a,b):(b,a))\n",
    "output = counts .sortByKey (0).take (10)\n",
    "for (count , ssid ) in output :\n",
    "    print (\"%s: %i\" % (ssid , count ))"
   ]
  },
  {
   "cell_type": "code",
   "execution_count": null,
   "metadata": {
    "collapsed": true
   },
   "outputs": [],
   "source": []
  }
 ],
 "metadata": {
  "kernelspec": {
   "display_name": "Python 2",
   "language": "python",
   "name": "python2"
  },
  "language_info": {
   "codemirror_mode": {
    "name": "ipython",
    "version": 2
   },
   "file_extension": ".py",
   "mimetype": "text/x-python",
   "name": "python",
   "nbconvert_exporter": "python",
   "pygments_lexer": "ipython2",
   "version": "2.7.6"
  }
 },
 "nbformat": 4,
 "nbformat_minor": 0
}
