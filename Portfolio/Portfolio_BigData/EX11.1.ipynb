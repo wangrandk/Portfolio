{
 "cells": [
  {
   "cell_type": "code",
   "execution_count": 1,
   "metadata": {
    "collapsed": true
   },
   "outputs": [],
   "source": [
    "import json\n",
    "import glob\n",
    "\n",
    "result = []\n",
    "for f in glob.glob(\"EX11_articles/*.json\"):\n",
    "    with open(f, \"rb\") as infile:\n",
    "        result.append(json.load(infile))\n",
    "\n",
    "with open(\"merged_file.json\", \"wb\") as outfile:\n",
    "     json.dump(result, outfile)"
   ]
  },
  {
   "cell_type": "code",
   "execution_count": null,
   "metadata": {
    "collapsed": true
   },
   "outputs": [],
   "source": []
  },
  {
   "cell_type": "code",
   "execution_count": 2,
   "metadata": {
    "collapsed": true
   },
   "outputs": [],
   "source": [
    "import json\n",
    "\n",
    "with open('merged_file.json') as data_file:    \n",
    "    data = json.load(data_file)\n",
    "\n",
    "t = []\n",
    "for i in range(len(data)):\n",
    "    for j in range(len(data[i])):\n",
    "        if ('body' in data[i][j] and 'topics' in data[i][j]):\n",
    "            t.append(data[i][j])"
   ]
  },
  {
   "cell_type": "code",
   "execution_count": 3,
   "metadata": {
    "collapsed": false
   },
   "outputs": [
    {
     "name": "stdout",
     "output_type": "stream",
     "text": [
      "(10377L,)\n"
     ]
    }
   ],
   "source": [
    "import numpy as np\n",
    "import collections, re\n",
    "\n",
    "print np.shape(t)\n",
    "\n",
    "all_words = {}\n",
    "bagsofwords = [ collections.Counter(re.findall(r'\\w+', txt['body'])) for txt in t]"
   ]
  },
  {
   "cell_type": "markdown",
   "metadata": {},
   "source": [
    "hashing the raw data to make a bag-of-words encoding of the body of 10377 articles. Remember to lower-case all words. This should result in a matrix, with one row for each article (which has a topic) and one column for each unique word in those articles."
   ]
  },
  {
   "cell_type": "code",
   "execution_count": 33,
   "metadata": {
    "collapsed": false
   },
   "outputs": [
    {
     "data": {
      "text/plain": [
       "<10377x28437 sparse matrix of type '<type 'numpy.float64'>'\n",
       "\twith 806834 stored elements in Compressed Sparse Row format>"
      ]
     },
     "execution_count": 33,
     "metadata": {},
     "output_type": "execute_result"
    }
   ],
   "source": [
    "from sklearn.feature_extraction.text import TfidfVectorizer\n",
    "vectorizer = TfidfVectorizer(min_df=1,lowercase=True)\n",
    "Xh = vectorizer.fit_transform([(txt['body']) for txt in t])\n",
    "Xh"
   ]
  },
  {
   "cell_type": "markdown",
   "metadata": {},
   "source": [
    "Hash the articles to only 1000 features by using the modolo operation, so every single word will be allocated in a bucket within 32936, the matrix shape is  (10377L, 32936L)"
   ]
  },
  {
   "cell_type": "code",
   "execution_count": 7,
   "metadata": {
    "collapsed": false
   },
   "outputs": [
    {
     "name": "stdout",
     "output_type": "stream",
     "text": [
      "32936\n",
      "(10377L,)\n"
     ]
    },
    {
     "data": {
      "text/plain": [
       "(10377L, 32936L)"
      ]
     },
     "execution_count": 7,
     "metadata": {},
     "output_type": "execute_result"
    }
   ],
   "source": [
    "import collections, re\n",
    "all_words = {}\n",
    "import mmh3\n",
    "bagsofwords = [ collections.Counter(re.findall(r'\\w+', txt['body'])) for txt in t]\n",
    "i = 0\n",
    "for c in bagsofwords:\n",
    "    for w in c.elements():\n",
    "        if w not in all_words:\n",
    "            all_words[w] = i\n",
    "            i += 1\n",
    "# fixed amount of features/buckets\n",
    "print len(all_words)\n",
    "print np.shape(bagsofwords)\n",
    "\n",
    "words = ([(re.findall(r'\\w+', txt['body'].lower())) for txt in t])\n",
    "ah = np.zeros(( len(words),len(all_words)), dtype='int32')\n",
    "for i in range(len(words)):\n",
    "    for j, word in enumerate(words[i]):\n",
    "        token = mmh3.hash(str(word)) % 1000\n",
    "        ah[i, token] = 1\n",
    "print np.shape(ah)"
   ]
  },
  {
   "cell_type": "markdown",
   "metadata": {},
   "source": [
    "Hash the articles to only 1000 features by using the modolo operation, so every single word will be allocated in a bucket within 1000, the matrix shape is  (10377L, 1000L)"
   ]
  },
  {
   "cell_type": "code",
   "execution_count": 6,
   "metadata": {
    "collapsed": false
   },
   "outputs": [
    {
     "data": {
      "text/plain": [
       "array([[0, 0, 0, ..., 0, 0, 0],\n",
       "       [0, 0, 0, ..., 0, 0, 0],\n",
       "       [0, 0, 0, ..., 0, 0, 0],\n",
       "       ..., \n",
       "       [0, 0, 0, ..., 0, 0, 0],\n",
       "       [0, 0, 0, ..., 0, 0, 0],\n",
       "       [0, 0, 0, ..., 0, 0, 0]])"
      ]
     },
     "execution_count": 6,
     "metadata": {},
     "output_type": "execute_result"
    }
   ],
   "source": [
    "import mmh3\n",
    "\n",
    "words = ([(re.findall(r'\\w+', txt['body'].lower())) for txt in t])\n",
    "al = np.zeros(( len(words),1000), dtype='int32')\n",
    "for i in range(len(words)):\n",
    "    for j, word in enumerate(words[i]):\n",
    "        token = mmh3.hash(str(word)) % 1000\n",
    "        al[i, token] = 1\n",
    "print np.shape(al)\n",
    "al"
   ]
  },
  {
   "cell_type": "code",
   "execution_count": null,
   "metadata": {
    "collapsed": true
   },
   "outputs": [],
   "source": []
  },
  {
   "cell_type": "code",
   "execution_count": 8,
   "metadata": {
    "collapsed": false
   },
   "outputs": [
    {
     "data": {
      "text/plain": [
       "array([[ 0.        ,  0.        ,  0.        , ...,  0.        ,\n",
       "         0.        ,  0.        ],\n",
       "       [ 0.        ,  0.        ,  0.        , ...,  0.        ,\n",
       "         0.        ,  0.        ],\n",
       "       [ 0.        ,  0.        ,  0.        , ...,  0.        ,\n",
       "         0.        ,  0.        ],\n",
       "       ..., \n",
       "       [ 0.        ,  0.        ,  0.        , ...,  0.        ,\n",
       "         0.        ,  0.        ],\n",
       "       [ 0.        ,  0.05591611,  0.        , ...,  0.        ,\n",
       "         0.        ,  0.        ],\n",
       "       [ 0.        ,  0.        ,  0.        , ...,  0.        ,\n",
       "         0.        ,  0.        ]])"
      ]
     },
     "execution_count": 8,
     "metadata": {},
     "output_type": "execute_result"
    }
   ],
   "source": [
    "X.toarray() "
   ]
  },
  {
   "cell_type": "markdown",
   "metadata": {},
   "source": [
    "The above vectorization scheme is simple but the fact that it holds an in- memory mapping from the string tokens to the integer feature indices (the vocabulary_ attribute) causes several problems when dealing with large datasets:\n",
    "It is possible to overcome those limitations by combining the “hashing trick” (Feature hashing) implemented by the sklearn.feature_extraction.FeatureHasher class and the text preprocessing and tokenization features of the CountVectorizer. "
   ]
  },
  {
   "cell_type": "markdown",
   "metadata": {},
   "source": [
    "Now implement feature hashing and use 1000 buckets instead of the raw bag-of-words encoding. we see it has only 558568 stored elements,which is less than 806834 from the last hashing."
   ]
  },
  {
   "cell_type": "code",
   "execution_count": 31,
   "metadata": {
    "collapsed": false
   },
   "outputs": [
    {
     "data": {
      "text/plain": [
       "<10377x1000 sparse matrix of type '<type 'numpy.float64'>'\n",
       "\twith 558568 stored elements in Compressed Sparse Row format>"
      ]
     },
     "execution_count": 31,
     "metadata": {},
     "output_type": "execute_result"
    }
   ],
   "source": [
    "from sklearn.feature_extraction.text import TfidfVectorizer\n",
    "vectorizer = TfidfVectorizer(min_df=1,lowercase=True,max_features=1000)\n",
    "Xl = vectorizer.fit_transform([(txt['body']) for txt in t])\n",
    "Xl"
   ]
  },
  {
   "cell_type": "code",
   "execution_count": 10,
   "metadata": {
    "collapsed": true
   },
   "outputs": [],
   "source": [
    "#which article has 'earn' in the body text\n",
    "Y = []\n",
    "for i in range(len(bagsofwords)):\n",
    "    if 'earn' in bagsofwords[i]:\n",
    "        Y.append (1)\n",
    "    else:\n",
    "        Y.append(0)"
   ]
  },
  {
   "cell_type": "code",
   "execution_count": 11,
   "metadata": {
    "collapsed": true
   },
   "outputs": [],
   "source": [
    "# which article has 'earn'\n",
    "C = []\n",
    "for i in range(len(Y)):\n",
    "    if Y[i] == 1:\n",
    "        C.append(i)"
   ]
  },
  {
   "cell_type": "code",
   "execution_count": 12,
   "metadata": {
    "collapsed": false
   },
   "outputs": [
    {
     "name": "stdout",
     "output_type": "stream",
     "text": [
      "[485, 575, 597, 820, 834, 1010, 1041, 1130, 1601, 1847, 1927, 2043, 2291, 2341, 2347, 2388, 2400, 2736, 3014, 3186, 3442, 3933, 4013, 4131, 4470, 4565, 4795, 4798, 5155, 5946, 6062, 6130, 6287, 6472, 6762, 6782, 7376, 7429, 7605, 7745, 7868, 8386, 8678, 8684, 8882, 9206, 9441, 9585, 9588] 49 0.0047402535\n"
     ]
    }
   ],
   "source": [
    "# the real probability of all body text that contains 'earn' is 0.0047402535\n",
    "from decimal import *\n",
    "getcontext().prec = 10\n",
    "r = (49./10337)\n",
    "print C, len(C), \"%.10f\" %r"
   ]
  },
  {
   "cell_type": "markdown",
   "metadata": {},
   "source": [
    "Now we use two different sizes of buckets as threshold to test the performance of the random forest classifier,then visualize the result by a couple of receiver operating characteristic (ROC)."
   ]
  },
  {
   "cell_type": "code",
   "execution_count": 35,
   "metadata": {
    "collapsed": false
   },
   "outputs": [
    {
     "name": "stdout",
     "output_type": "stream",
     "text": [
      "prediction_l:  [0 0 0 ..., 0 0 0] prediction of probability_l:  [ 0.00261543  0.00248239  0.00464292 ...,  0.0240653   0.00248239\n",
      "  0.00248239]\n",
      "prediction_h:  [0 0 0 ..., 0 0 0] prediction of probability_h:  [ 0.00383222  0.00383222  0.00890477 ...,  0.00371144  0.00383222\n",
      "  0.00383222]\n"
     ]
    }
   ],
   "source": [
    "np.random.seed(10)\n",
    "import matplotlib.pyplot as plt\n",
    "\n",
    "from sklearn.datasets import make_classification\n",
    "from sklearn.linear_model import LogisticRegression\n",
    "from sklearn.ensemble import (RandomTreesEmbedding, RandomForestClassifier,\n",
    "                              GradientBoostingClassifier)\n",
    "from sklearn.preprocessing import OneHotEncoder\n",
    "from sklearn.cross_validation import train_test_split\n",
    "from sklearn.metrics import roc_curve\n",
    "from sklearn.pipeline import make_pipeline\n",
    "\n",
    "Xl_train, Xl_test, yl_train, yl_test = train_test_split(Xl, Y, test_size=0.2)\n",
    "Xh_train, Xh_test, yh_train, yh_test = train_test_split(Xh, Y, test_size=0.2)\n",
    "\n",
    "# Supervised transformation based on random forests\n",
    "rfl = RandomForestClassifier(max_depth=3,n_jobs=-1, n_estimators=50)\n",
    "rfh = RandomForestClassifier(max_depth=3,n_jobs=-1, n_estimators=50)\n",
    "\n",
    "rfl.fit(Xl_train, yl_train)\n",
    "prel = rfl.predict(Xl_test)\n",
    "# The random forest model by itself\n",
    "yl_pred_rf = rfl.predict_proba(Xl_test)[:,1]\n",
    "print \"prediction_l: \", prel, \"prediction of probability_l: \", yl_pred_rf\n",
    "fpr_rf_l, tpr_rf_l, _ = roc_curve(yl_test, yl_pred_rf)\n",
    "\n",
    "rfh.fit(Xh_train, yh_train)\n",
    "preh = rfh.predict(Xh_test)\n",
    "\n",
    "yh_pred_rf = rfh.predict_proba(Xh_test)[:,1]\n",
    "print \"prediction_h: \", preh, \"prediction of probability_h: \", yh_pred_rf\n",
    "fpr_rf_h, tpr_rf_h, _ = roc_curve(yh_test, yh_pred_rf)\n"
   ]
  },
  {
   "cell_type": "code",
   "execution_count": 36,
   "metadata": {
    "collapsed": false
   },
   "outputs": [
    {
     "data": {
      "image/png": "[encoded data removed]",
      "text/plain": [
       "<matplotlib.figure.Figure at 0x27e68710>"
      ]
     },
     "metadata": {},
     "output_type": "display_data"
    }
   ],
   "source": [
    "%matplotlib inline\n",
    "plt.figure(1)\n",
    "plt.plot([0, 1], [0, 1], 'k--')\n",
    "plt.plot(fpr_rf_l, tpr_rf_l, label='RF with 1000 buckets')\n",
    "plt.plot(fpr_rf_h, tpr_rf_h, label='RF with 28437 buckets')\n",
    "plt.xlabel('False positive rate')\n",
    "plt.ylabel('True positive rate')\n",
    "plt.title('ROC curve')\n",
    "plt.legend(loc='best')\n",
    "plt.show()"
   ]
  },
  {
   "cell_type": "code",
   "execution_count": 41,
   "metadata": {
    "collapsed": false
   },
   "outputs": [
    {
     "data": {
      "image/png": "[encoded data removed]",
      "text/plain": [
       "<matplotlib.figure.Figure at 0x2a67a0b8>"
      ]
     },
     "metadata": {},
     "output_type": "display_data"
    }
   ],
   "source": [
    "%matplotlib inline\n",
    "plt.figure(2)\n",
    "plt.xlim(0, 0.5)\n",
    "plt.ylim(0.3, 1)\n",
    "plt.plot([0, 1], [0, 1], 'k--')\n",
    "plt.plot(fpr_rf_l, tpr_rf_l, label='RF with 1000 buckets')\n",
    "plt.plot(fpr_rf_h, tpr_rf_h, label='RF with 28437 buckets')\n",
    "plt.xlabel('False positive rate')\n",
    "plt.ylabel('True positive rate')\n",
    "plt.title('ROC curve')\n",
    "plt.legend(loc='best')\n",
    "plt.show()"
   ]
  },
  {
   "cell_type": "code",
   "execution_count": 14,
   "metadata": {
    "collapsed": false
   },
   "outputs": [
    {
     "data": {
      "image/png": "[encoded data removed]",
      "text/plain": [
       "<matplotlib.figure.Figure at 0xbda4630>"
      ]
     },
     "metadata": {},
     "output_type": "display_data"
    }
   ],
   "source": [
    "%matplotlib inline\n",
    "import matplotlib.pyplot as plt\n",
    "import numpy as np\n",
    "x = np.linspace(0, 3*np.pi, 500)\n",
    "plt.plot(x, np.sin(x**2))\n",
    "plt.title('A simple chirp');"
   ]
  },
  {
   "cell_type": "code",
   "execution_count": 42,
   "metadata": {
    "collapsed": false
   },
   "outputs": [
    {
     "data": {
      "image/png": "[encoded data removed]",
      "text/plain": [
       "<matplotlib.figure.Figure at 0x27c970b8>"
      ]
     },
     "metadata": {},
     "output_type": "display_data"
    }
   ],
   "source": [
    "# %load http://matplotlib.sourceforge.net/mpl_examples/pylab_examples/integral_demo.py\n",
    "#!/usr/bin/env python\n",
    "%matplotlib inline\n",
    "# implement the example graphs/integral from pyx\n",
    "from pylab import *\n",
    "from matplotlib.patches import Polygon\n",
    "\n",
    "def func(x):\n",
    "    return (x-3)*(x-5)*(x-7)+85\n",
    "\n",
    "ax = subplot(111)\n",
    "\n",
    "a, b = 2, 9 # integral area\n",
    "x = arange(0, 10, 0.01)\n",
    "y = func(x)\n",
    "plot(x, y, linewidth=1)\n",
    "\n",
    "# make the shaded region\n",
    "ix = arange(a, b, 0.01)\n",
    "iy = func(ix)\n",
    "verts = [(a,0)] + list(zip(ix,iy)) + [(b,0)]\n",
    "poly = Polygon(verts, facecolor='0.8', edgecolor='k')\n",
    "ax.add_patch(poly)\n",
    "\n",
    "text(0.5 * (a + b), 30,\n",
    "     r\"$\\int_a^b f(x)\\mathrm{d}x$\", horizontalalignment='center',\n",
    "     fontsize=20)\n",
    "\n",
    "axis([0,10, 0, 180])\n",
    "figtext(0.9, 0.05, 'x')\n",
    "figtext(0.1, 0.9, 'y')\n",
    "ax.set_xticks((a,b))\n",
    "ax.set_xticklabels(('a','b'))\n",
    "ax.set_yticks([])\n",
    "show()\n"
   ]
  },
  {
   "cell_type": "code",
   "execution_count": null,
   "metadata": {
    "collapsed": true
   },
   "outputs": [],
   "source": []
  }
 ],
 "metadata": {
  "kernelspec": {
   "display_name": "Python 2",
   "language": "python",
   "name": "python2"
  },
  "language_info": {
   "codemirror_mode": {
    "name": "ipython",
    "version": 2
   },
   "file_extension": ".py",
   "mimetype": "text/x-python",
   "name": "python",
   "nbconvert_exporter": "python",
   "pygments_lexer": "ipython2",
   "version": "2.7.10"
  }
 },
 "nbformat": 4,
 "nbformat_minor": 0
}
