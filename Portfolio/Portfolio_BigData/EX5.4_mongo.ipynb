{
 "cells": [
  {
   "cell_type": "code",
   "execution_count": 1,
   "metadata": {
    "collapsed": true
   },
   "outputs": [],
   "source": [
    "# 5.4 \n",
    "# Determine how many and who ordered “Uncle Bob’s Organic Dried Pears” (productID 7).\n",
    "import pymongo\n",
    "from pymongo import MongoClient\n",
    "db = MongoClient()['Northwind']  # db=MongoClient().Northwind"
   ]
  },
  {
   "cell_type": "code",
   "execution_count": 3,
   "metadata": {
    "collapsed": false
   },
   "outputs": [
    {
     "name": "stdout",
     "output_type": "stream",
     "text": [
      "[10262, 10385, 10459, 10471, 10511, 10546, 10591, 10607, 10634, 10694, 10766, 10790, 10833, 10858, 10908, 10909, 10958, 10962, 10979, 10982, 10987, 10988, 11001, 11010, 11023, 11056, 11071, 11077, 10940] 29\n"
     ]
    }
   ],
   "source": [
    "order_id=[]\n",
    "for item in db['order-details'].find({\"ProductID\":7}):\n",
    "    order_id.append(item[\"OrderID\"])\n",
    "print order_id,len(order_id)\n"
   ]
  },
  {
   "cell_type": "code",
   "execution_count": 4,
   "metadata": {
    "collapsed": false
   },
   "outputs": [
    {
     "name": "stdout",
     "output_type": "stream",
     "text": [
      "[u'VAFFE', u'SAVEA', u'FOLIG', u'QUICK', u'OTTIK', u'GOURL', u'OTTIK', u'LACOR', u'REGGC', u'SANTG', u'BONAP', u'OCEAN', u'QUICK', u'ERNSH', u'BOTTM', u'EASTC', u'RATTC', u'FOLKO', u'REGGC', u'BSBEV', u'EASTC', u'LILAS', u'RATTC', u'RATTC', u'SPLIR', u'VICTE', u'BSBEV', u'BONAP', u'VICTE'] 29\n",
      "[u'GOURL', u'VAFFE', u'BOTTM', u'FOLKO', u'ERNSH', u'EASTC', u'FOLIG', u'BONAP', u'SANTG', u'REGGC', u'OTTIK', u'RATTC', u'LACOR', u'LILAS', u'QUICK', u'SAVEA', u'VICTE', u'OCEAN', u'SPLIR', u'BSBEV'] 20\n"
     ]
    }
   ],
   "source": [
    "c_id=[]\n",
    "for i in db.orders.find({\"OrderID\":{\"$in\":uni_order_id}}):\n",
    "    c_id.append(i[\"CustomerID\"])\n",
    "print c_id,len(c_id)\n",
    "\n",
    "\n",
    "from collections import Counter\n",
    "uni_c_id=[k for k,v in Counter(c_id).items() if v>0] #find repeated numbers in a list\n",
    "print uni_c_id,len(uni_c_id)\n",
    "# in total 20 customers have ordered uncle Bob's Organic Dried Pears."
   ]
  },
  {
   "cell_type": "code",
   "execution_count": null,
   "metadata": {
    "collapsed": true
   },
   "outputs": [],
   "source": []
  }
 ],
 "metadata": {
  "kernelspec": {
   "display_name": "Python 2",
   "language": "python",
   "name": "python2"
  },
  "language_info": {
   "codemirror_mode": {
    "name": "ipython",
    "version": 2
   },
   "file_extension": ".py",
   "mimetype": "text/x-python",
   "name": "python",
   "nbconvert_exporter": "python",
   "pygments_lexer": "ipython2",
   "version": "2.7.10"
  }
 },
 "nbformat": 4,
 "nbformat_minor": 0
}
