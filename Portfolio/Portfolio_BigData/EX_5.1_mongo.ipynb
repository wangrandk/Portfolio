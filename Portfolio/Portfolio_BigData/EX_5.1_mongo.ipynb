{
 "cells": [
  {
   "cell_type": "code",
   "execution_count": 13,
   "metadata": {
    "collapsed": false
   },
   "outputs": [],
   "source": [
    "import pymongo\n",
    "from pymongo import MongoClient\n",
    "client = MongoClient()\n",
    "client = MongoClient('localhost', 27017)\n",
    "#client = MongoClient('mongodb://localhost:27017/')"
   ]
  },
  {
   "cell_type": "code",
   "execution_count": 14,
   "metadata": {
    "collapsed": false
   },
   "outputs": [],
   "source": [
    "db = client['Northwind']   # db=client.Northwind"
   ]
  },
  {
   "cell_type": "code",
   "execution_count": 18,
   "metadata": {
    "collapsed": false,
    "scrolled": true
   },
   "outputs": [
    {
     "name": "stdout",
     "output_type": "stream",
     "text": [
      "{u'OrderID': 10645, u'ShipVia': 1, u'ShippedDate': u'1997-09-02 00:00:00.000', u'_id': ObjectId('561cc670c7848cec85f04a03'), u'EmployeeID': 4, u'ShipPostalCode': u'RJ', u'ShipCity': 67, u'ShipRegion': u'Rio de Janeiro', u'ShipAddress': u'Rua do Pa\\xe7o', u'CustomerID': u'HANAR', u'ShipName': u'Hanari Carnes', u'field14': u'Brazil', u'Freight': 12.41, u'RequiredDate': u'1997-09-23 00:00:00.000', u'OrderDate': u'1997-08-26 00:00:00.000', u'ShipCountry': u'05454-876'}\n",
      "{u'OrderID': 10643, u'ShipVia': 1, u'ShippedDate': u'1997-09-02 00:00:00.000', u'_id': ObjectId('561cc670c7848cec85f04a0d'), u'EmployeeID': 6, u'ShipPostalCode': 12209, u'ShipCity': u'Berlin', u'ShipRegion': u'NULL', u'ShipAddress': u'Obere Str. 57', u'CustomerID': u'ALFKI', u'ShipName': u'Alfreds Futterkiste', u'Freight': 29.46, u'RequiredDate': u'1997-09-22 00:00:00.000', u'OrderDate': u'1997-08-25 00:00:00.000', u'ShipCountry': u'Germany'}\n"
     ]
    }
   ],
   "source": [
    "# find shippedDate \"1997-09-02 00:00:00.000\" in collection \"orders\"\n",
    "order = db.orders.find({\"ShippedDate\":\"1997-09-02 00:00:00.000\"})\n",
    "for i in order:\n",
    "    print i   "
   ]
  },
  {
   "cell_type": "code",
   "execution_count": 96,
   "metadata": {
    "collapsed": false
   },
   "outputs": [
    {
     "data": {
      "text/plain": [
       "[u'categories',\n",
       " u'customers',\n",
       " u'employee-territories',\n",
       " u'employees',\n",
       " u'order-details',\n",
       " u'orders',\n",
       " u'products',\n",
       " u'regions',\n",
       " u'shippers',\n",
       " u'suppliers',\n",
       " u'territories']"
      ]
     },
     "execution_count": 96,
     "metadata": {},
     "output_type": "execute_result"
    }
   ],
   "source": [
    "# show all the collections in \"Northwind\"\n",
    "db.collection_names(include_system_collections=False)"
   ]
  },
  {
   "cell_type": "code",
   "execution_count": 19,
   "metadata": {
    "collapsed": false
   },
   "outputs": [
    {
     "data": {
      "text/plain": [
       "{u'CategoryID': 4,\n",
       " u'Discontinued': 0,\n",
       " u'ProductID': 12,\n",
       " u'ProductName': u'Queso Manchego La Pastora',\n",
       " u'QuantityPerUnit': u'10 - 500 g pkgs.',\n",
       " u'ReorderLevel': 0,\n",
       " u'SupplierID': 5,\n",
       " u'UnitPrice': 38.0,\n",
       " u'UnitsInStock': 86,\n",
       " u'UnitsOnOrder': 0,\n",
       " u'_id': ObjectId('561cc670c7848cec85f04bbf')}"
      ]
     },
     "execution_count": 19,
     "metadata": {},
     "output_type": "execute_result"
    }
   ],
   "source": [
    "# find one row from collection \"products\"\n",
    "from bson.objectid import ObjectId\n",
    "db.products.find_one() "
   ]
  },
  {
   "cell_type": "code",
   "execution_count": 21,
   "metadata": {
    "collapsed": false
   },
   "outputs": [
    {
     "data": {
      "text/plain": [
       "{u'CustomerID': u'HILAA',\n",
       " u'EmployeeID': 2,\n",
       " u'Freight': 83.22,\n",
       " u'OrderDate': u'1997-05-29 00:00:00.000',\n",
       " u'OrderID': 10552,\n",
       " u'RequiredDate': u'1997-06-26 00:00:00.000',\n",
       " u'ShipAddress': u'Carrera 22 con Ave. Carlos Soublette #8-35',\n",
       " u'ShipCity': u'San Crist\\xf3bal',\n",
       " u'ShipCountry': u'Venezuela',\n",
       " u'ShipName': u'HILARION-Abastos',\n",
       " u'ShipPostalCode': 5022,\n",
       " u'ShipRegion': u'T\\xe1chira',\n",
       " u'ShipVia': 1,\n",
       " u'ShippedDate': u'1997-06-05 00:00:00.000',\n",
       " u'_id': ObjectId('561cc670c7848cec85f049a7')}"
      ]
     },
     "execution_count": 21,
     "metadata": {},
     "output_type": "execute_result"
    }
   ],
   "source": [
    "# find one row from collection \"orders\"\n",
    "from bson.objectid import ObjectId\n",
    "db.orders.find_one() "
   ]
  },
  {
   "cell_type": "code",
   "execution_count": 22,
   "metadata": {
    "collapsed": false
   },
   "outputs": [
    {
     "data": {
      "text/plain": [
       "{u'Address': u'Obere Str. 57',\n",
       " u'City': u'Berlin',\n",
       " u'CompanyName': u'Alfreds Futterkiste',\n",
       " u'ContactName': u'Maria Anders',\n",
       " u'ContactTitle': u'Sales Representative',\n",
       " u'Country': u'Germany',\n",
       " u'CustomerID': u'ALFKI',\n",
       " u'Fax': u'030-0076545',\n",
       " u'Phone': u'030-0074321',\n",
       " u'PostalCode': 12209,\n",
       " u'Region': u'NULL',\n",
       " u'_id': ObjectId('561cc66fc7848cec85f03f7f')}"
      ]
     },
     "execution_count": 22,
     "metadata": {},
     "output_type": "execute_result"
    }
   ],
   "source": [
    "# find one row from collection \"customers\"\n",
    "from bson.objectid import ObjectId\n",
    "db.customers.find_one() "
   ]
  },
  {
   "cell_type": "code",
   "execution_count": 23,
   "metadata": {
    "collapsed": false
   },
   "outputs": [
    {
     "data": {
      "text/plain": [
       "{u'Discount': 0,\n",
       " u'OrderID': 10248,\n",
       " u'ProductID': 11,\n",
       " u'Quantity': 12,\n",
       " u'UnitPrice': 14.0,\n",
       " u'_id': ObjectId('561cc66fc7848cec85f0400c')}"
      ]
     },
     "execution_count": 23,
     "metadata": {},
     "output_type": "execute_result"
    }
   ],
   "source": [
    "# find one row from collection \"order-details\"\n",
    "from bson.objectid import ObjectId\n",
    "db['order-details'].find_one() "
   ]
  },
  {
   "cell_type": "code",
   "execution_count": 24,
   "metadata": {
    "collapsed": false
   },
   "outputs": [
    {
     "name": "stdout",
     "output_type": "stream",
     "text": [
      "{u'SupplierID': 1, u'Discontinued': 0, u'UnitsInStock': 13, u'ReorderLevel': 25, u'ProductName': u'Aniseed Syrup', u'QuantityPerUnit': u'12 - 550 ml bottles', u'UnitsOnOrder': 70, u'_id': ObjectId('561cc670c7848cec85f04bb7'), u'UnitPrice': 10.0, u'CategoryID': 2, u'ProductID': 3}\n"
     ]
    }
   ],
   "source": [
    "# find the rows from collection \"products\" that contain \"ProductName\": \"Aniseed Syrup\" \n",
    "product = db.products.find({\"ProductName\":\"Aniseed Syrup\"})\n",
    "for j in product:\n",
    "    print j "
   ]
  }
 ],
 "metadata": {
  "kernelspec": {
   "display_name": "Python 2",
   "language": "python",
   "name": "python2"
  },
  "language_info": {
   "codemirror_mode": {
    "name": "ipython",
    "version": 2
   },
   "file_extension": ".py",
   "mimetype": "text/x-python",
   "name": "python",
   "nbconvert_exporter": "python",
   "pygments_lexer": "ipython2",
   "version": "2.7.10"
  }
 },
 "nbformat": 4,
 "nbformat_minor": 0
}
