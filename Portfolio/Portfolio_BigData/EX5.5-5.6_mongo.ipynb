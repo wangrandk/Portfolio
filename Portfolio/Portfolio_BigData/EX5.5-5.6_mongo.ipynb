{
 "cells": [
  {
   "cell_type": "code",
   "execution_count": 16,
   "metadata": {
    "collapsed": false
   },
   "outputs": [],
   "source": [
    "# Exercise 5.5:\n",
    "# How many different and which products have been ordered by customers who have also ordered “Uncle Bob’s Organic Dried Pears”?\n",
    "import pymongo\n",
    "from pymongo import MongoClient\n",
    "db = MongoClient()['Northwind']  # db=MongoClient().Northwind"
   ]
  },
  {
   "cell_type": "code",
   "execution_count": 18,
   "metadata": {
    "collapsed": false
   },
   "outputs": [
    {
     "name": "stdout",
     "output_type": "stream",
     "text": [
      "[10262, 10385, 10459, 10471, 10511, 10546, 10591, 10607, 10634, 10694, 10766, 10790, 10833, 10858, 10908, 10909, 10958, 10962, 10979, 10982, 10987, 10988, 11001, 11010, 11023, 11056, 11071, 11077, 10940] 29\n"
     ]
    }
   ],
   "source": [
    "#in order to find who bought from uncle Bob's, we need to follow a pipeline \"\"ProductID\":7 -> OrderID -> CustomerID\"\n",
    "order_id=[]\n",
    "for item in db['order-details'].find({\"ProductID\":7}):\n",
    "    order_id.append(item[\"OrderID\"])\n",
    "print order_id,len(order_id)\n"
   ]
  },
  {
   "cell_type": "code",
   "execution_count": 19,
   "metadata": {
    "collapsed": false
   },
   "outputs": [
    {
     "name": "stdout",
     "output_type": "stream",
     "text": [
      "[u'VAFFE', u'SAVEA', u'FOLIG', u'QUICK', u'OTTIK', u'GOURL', u'OTTIK', u'LACOR', u'REGGC', u'SANTG', u'BONAP', u'OCEAN', u'QUICK', u'ERNSH', u'BOTTM', u'EASTC', u'RATTC', u'FOLKO', u'REGGC', u'BSBEV', u'EASTC', u'LILAS', u'RATTC', u'RATTC', u'SPLIR', u'VICTE', u'BSBEV', u'BONAP', u'VICTE'] 29\n",
      "[u'GOURL', u'VAFFE', u'BOTTM', u'FOLKO', u'ERNSH', u'EASTC', u'FOLIG', u'BONAP', u'SANTG', u'REGGC', u'OTTIK', u'RATTC', u'LACOR', u'LILAS', u'QUICK', u'SAVEA', u'VICTE', u'OCEAN', u'SPLIR', u'BSBEV'] 20\n"
     ]
    }
   ],
   "source": [
    "c_id=[]\n",
    "for i in db.orders.find({\"OrderID\":{\"$in\":uni_order_id}}):\n",
    "    c_id.append(i[\"CustomerID\"])\n",
    "print c_id,len(c_id)\n",
    "\n",
    "\n",
    "from collections import Counter\n",
    "uni_c_id=[k for k,v in Counter(c_id).items() if v>0] #find repeated numbers in a list\n",
    "print uni_c_id,len(uni_c_id)\n",
    "\n",
    "# 20 customers have ordered from uncle Bob's."
   ]
  },
  {
   "cell_type": "code",
   "execution_count": 21,
   "metadata": {
    "collapsed": false
   },
   "outputs": [
    {
     "name": "stdout",
     "output_type": "stream",
     "text": [
      "[10554, 10555, 10561, 10562, 10564, 10569, 10571, 10578, 10580, 10588, 10591, 10586, 10595, 10598, 10599, 10602, 10603, 10607, 10612, 10627, 10633, 10634, 10639, 10652, 10657, 10658, 10667, 10663, 10655, 10678, 10684, 10685, 10688, 10691, 10694, 10698, 10700, 10703, 10709, 10711, 10713, 10714, 10715, 10721, 10722, 10726, 10727, 10730, 10734, 10742, 10744, 10745, 10748, 10755, 10756, 10757, 10761, 10762, 10763, 10764, 10765, 10766, 10769, 10732, 10771, 10773, 10774, 10776, 10777, 10780, 10788, 10789, 10790, 10795, 10806, 10812, 10814, 10815, 10820, 10821, 10823, 10824, 10827, 10831, 10833, 10836, 10843, 10845, 10847, 10850, 10852, 10854, 10858, 10865, 10871, 10876, 10878, 10880, 10882, 10889, 10894, 10895, 10898, 10899, 10902, 10908, 10909, 10918, 10921, 10927, 10932, 10938, 10940, 10941, 10942, 10943, 10944, 10946, 10947, 10949, 10955, 10958, 10959, 10962, 10968, 10972, 10973, 10974, 10975, 10977, 10979, 10980, 10982, 10983, 10984, 10986, 10987, 10988, 10990, 10991, 10993, 10994, 10996, 10997, 10999, 11000, 11001, 11002, 11008, 11010, 11015, 11017, 11020, 11021, 11023, 11024, 11027, 11030, 11031, 11045, 11047, 11048, 11049, 11050, 11056, 11062, 11064, 11065, 11071, 11072, 11076, 11077, 10251, 10258, 10260, 10262, 10263, 10264, 10271, 10272, 10273, 10283, 10285, 10286, 10288, 10289, 10294, 10296, 10313, 10314, 10316, 10324, 10327, 10329, 10330, 10331, 10334, 10340, 10345, 10346, 10349, 10351, 10357, 10361, 10368, 10369, 10362, 10367, 10378, 10364, 10381, 10382, 10385, 10387, 10389, 10390, 10393, 10398, 10399, 10400, 10401, 10402, 10403, 10407, 10408, 10409, 10411, 10410, 10418, 10423, 10428, 10430, 10431, 10432, 10434, 10440, 10442, 10443, 10450, 10451, 10452, 10459, 10460, 10461, 10465, 10470, 10471, 10478, 10479, 10480, 10484, 10492, 10499, 10508, 10510, 10511, 10514, 10515, 10520, 10525, 10527, 10531, 10532, 10533, 10538, 10539, 10540, 10543, 10546, 10549] 270\n"
     ]
    }
   ],
   "source": [
    "# in order to find what these customers else bought, we need to follow a pipeline \"CustomerID -> OrderID -> ProductID\" \n",
    "\n",
    "o_id=[]\n",
    "for i in db.orders.find({\"CustomerID\":{\"$in\":uni_c_id}}):\n",
    "    o_id.append(i[\"OrderID\"])\n",
    "print o_id,len(o_id)\n"
   ]
  },
  {
   "cell_type": "code",
   "execution_count": 33,
   "metadata": {
    "collapsed": false
   },
   "outputs": [
    {
     "name": "stdout",
     "output_type": "stream",
     "text": [
      "[22, 57, 65, 32, 41, 57, 62, 5, 2, 24, 30, 74, 2, 41, 56, 5, 33, 20, 16, 70, 31, 72, 10, 31, 33, 40, 76, 15, 19, 60, 72, 1, 35, 53, 62, 40, 54, 68, 3, 64, 1, 17, 43, 60, 75, 11, 16, 69, 36, 32, 58, 62, 41, 62, 16, 35, 46, 59, 63, 2, 11, 30, 58, 19, 30, 38, 56, 26, 72, 54, 52, 68, 18, 41, 43, 8, 19, 42, 17, 56, 54, 38, 44, 41, 65, 10, 26, 60, 39, 60, 25, 51, 54, 69, 71, 34, 54, 65, 77, 28, 21, 64, 57, 29, 56, 71, 74, 5, 18, 29, 33, 74, 60, 68, 24, 28, 71, 59, 10, 55, 62, 70, 31, 35, 46, 72, 2, 14, 25, 26, 31, 35, 68, 55, 76, 77, 29, 35, 49, 71, 30, 56, 65, 71, 23, 63, 16, 48, 11, 69, 71, 37, 54, 62, 14, 21, 59, 33, 41, 44, 59, 2, 47, 61, 74, 31, 59, 46, 17, 21, 56, 59, 17, 40, 26, 54, 47, 11, 76, 2, 16, 29, 54, 66, 11, 61, 28, 11, 10, 54, 55, 64, 65, 77, 28, 44, 72, 46, 68, 75, 21, 30, 55, 24, 40, 29, 50, 45, 18, 23, 64, 56, 10, 38, 53, 59, 64, 47, 59, 21, 40, 51, 25, 42, 28, 49, 13, 39, 29, 75, 4, 8, 20, 28, 56, 65, 75, 9, 16, 27, 60, 33, 24, 53, 36, 40, 4, 36, 59, 30, 66, 4, 72, 73, 70, 72, 13, 21, 33, 49, 3, 26, 38, 68, 12, 23, 35, 62, 31, 45, 51, 16, 23, 62, 77, 14, 19, 24, 51, 56, 44, 51, 33, 62, 17, 31, 55, 31, 76, 14, 42, 35, 57, 41, 14, 65, 52, 18, 42, 3, 54, 35, 61, 69, 27, 71, 62, 77, 22, 49, 17, 33, 40, 72, 10, 36, 49, 60, 76, 62, 73, 13, 12, 26, 62, 18, 51, 75, 18, 42, 41, 15, 47, 56, 21, 41, 77, 30, 60, 40, 40, 60, 51, 46, 42, 69, 71, 12, 33, 41, 54, 40, 47, 60, 10, 41, 47, 10, 28, 34, 1, 29, 43, 44, 62, 59, 70, 11, 17, 29, 65, 70, 1, 34, 68, 71, 2, 59, 73, 41, 53, 10, 26, 51, 45, 46, 60, 2, 17, 47, 56, 58, 10, 71, 44, 2, 31, 68, 75, 11, 4, 17, 56, 59, 16, 31, 65, 76, 6, 30, 76, 3, 60, 72, 40, 18, 44, 59, 72, 23, 40, 56, 47, 56, 57, 69, 18, 36, 68, 69, 34, 59, 62, 64, 25, 75, 39, 47, 51, 56, 21, 22, 24, 3, 39, 65, 2, 68, 41, 52, 61, 62, 71, 17, 31, 75, 31, 66, 31, 42, 45, 51, 42, 70, 77, 19, 75, 18, 35, 63, 68, 56, 16, 17, 2, 65, 74, 31, 72, 77, 43, 41, 48, 61, 33, 19, 8, 56, 35, 51, 11, 57, 59, 77, 41, 70, 10, 39, 35, 19, 38, 43, 53, 31, 22, 35, 57, 60, 64, 51, 23, 35, 42, 58, 64, 1, 19, 37, 45, 60, 71, 25, 33, 70, 2, 17, 62, 10, 13, 27, 70, 38, 39, 6, 16, 17, 46, 64, 20, 23, 61, 70, 42, 49, 54, 11, 38, 13, 69, 75, 24, 39, 40, 60, 13, 39, 55, 62, 52, 16, 41, 1, 60, 35, 63, 20, 52, 76, 16, 62, 72, 75, 13, 43, 60, 71, 13, 72, 49, 31, 13, 22, 46, 11, 44, 56, 62, 10, 77, 59, 24, 6, 10, 17, 62, 75, 5, 72, 75, 13, 53, 69, 76, 12, 24, 64, 17, 33, 26, 41, 75, 63, 75, 8, 39, 47, 51, 63, 12, 24, 27, 31, 63, 75, 43, 13, 57, 16, 24, 36, 11, 20, 76, 77, 43, 72, 62, 21, 34, 55, 61, 2, 70, 76, 29, 41, 59, 42, 32, 46, 52, 41, 77, 51, 4, 24, 77, 22, 46, 55, 13, 35, 42, 55, 28, 34, 71, 24, 30, 77, 3, 59, 70, 10, 20, 26, 2, 51, 72, 43, 26, 33, 65, 71, 24, 62, 2, 5, 29, 1, 59, 24, 13, 64, 71, 33, 51, 1, 5, 68, 2, 12, 76, 55, 60, 53, 70, 17, 41, 53, 55, 68, 54, 30, 13, 2, 50, 41, 64, 6, 14, 19, 2, 3, 4, 6, 8, 68, 10, 12, 13, 14, 16, 20, 23, 32, 39, 41, 46, 52, 55, 60, 64, 66, 75, 73, 77] 747\n",
      "[1, 2, 3, 4, 5, 6, 8, 9, 10, 11, 12, 13, 14, 15, 16, 17, 18, 19, 20, 21, 22, 23, 24, 25, 26, 27, 28, 29, 30, 31, 32, 33, 34, 35, 36, 37, 38, 39, 40, 41, 42, 43, 44, 45, 46, 47, 48, 49, 50, 51, 52, 53, 54, 55, 56, 57, 58, 59, 60, 61, 62, 63, 64, 65, 66, 68, 69, 70, 71, 72, 73, 74, 75, 76, 77] 75\n"
     ]
    }
   ],
   "source": [
    "p_id=[]\n",
    "for item in db['order-details'].find({\"OrderID\":{\"$in\":o_id}}):\n",
    "    if item[\"ProductID\"]!=7:\n",
    "        p_id.append(item[\"ProductID\"])\n",
    "print p_id,len(p_id)\n",
    "\n",
    "#find all the unique ProductID, in total 75 \n",
    "from collections import Counter\n",
    "uni_p_id=[k for k,v in Counter(p_id).items() if v>0] \n",
    "print uni_p_id,len(uni_p_id)\n"
   ]
  },
  {
   "cell_type": "code",
   "execution_count": 32,
   "metadata": {
    "collapsed": false
   },
   "outputs": [
    {
     "data": {
      "text/plain": [
       "[(41, 22), (62, 22), (59, 19)]"
      ]
     },
     "execution_count": 32,
     "metadata": {},
     "output_type": "execute_result"
    }
   ],
   "source": [
    "# Exercise 5.6:\n",
    "# Of those products ordered by customers who have also ordered “Uncle Bob’s Organic Dried Pears”,\n",
    "# which one has been ordered the most (by the same set of customers).\n",
    "\n",
    "x=Counter(p_id)\n",
    "x.most_common(3) \n",
    "# we see from the result that ProductID 41 and 62 have been ordered the most."
   ]
  },
  {
   "cell_type": "code",
   "execution_count": null,
   "metadata": {
    "collapsed": true
   },
   "outputs": [],
   "source": []
  }
 ],
 "metadata": {
  "kernelspec": {
   "display_name": "Python 2",
   "language": "python",
   "name": "python2"
  },
  "language_info": {
   "codemirror_mode": {
    "name": "ipython",
    "version": 2
   },
   "file_extension": ".py",
   "mimetype": "text/x-python",
   "name": "python",
   "nbconvert_exporter": "python",
   "pygments_lexer": "ipython2",
   "version": "2.7.10"
  }
 },
 "nbformat": 4,
 "nbformat_minor": 0
}
